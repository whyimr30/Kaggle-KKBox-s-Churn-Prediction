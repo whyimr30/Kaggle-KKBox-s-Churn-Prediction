{
 "cells": [
  {
   "cell_type": "code",
   "execution_count": 1,
   "metadata": {},
   "outputs": [],
   "source": [
    "import numpy as np # linear algebra\n",
    "import pandas as pd # data processing, CSV file I/O (e.g. pd.read_csv)\n",
    "import matplotlib.pyplot as plt\n",
    "import seaborn as sns"
   ]
  },
  {
   "cell_type": "code",
   "execution_count": 2,
   "metadata": {},
   "outputs": [],
   "source": [
    "%matplotlib inline\n",
    "sns.set_style('darkgrid')"
   ]
  },
  {
   "cell_type": "code",
   "execution_count": 3,
   "metadata": {},
   "outputs": [],
   "source": [
    "chunk_size = 10000"
   ]
  },
  {
   "cell_type": "code",
   "execution_count": 4,
   "metadata": {},
   "outputs": [],
   "source": [
    "# Load v1 & v2 train data\n",
    "\n",
    "df_train_v1 = pd.read_csv('train.csv')\n",
    "df_train_v2 = pd.read_csv('train_v2.csv')\n",
    "df_train = pd.concat([df_train_v1, df_train_v2], ignore_index=True).reset_index(drop=True)\n",
    "df_train.drop_duplicates('msno',keep='last',inplace=True)"
   ]
  },
  {
   "cell_type": "code",
   "execution_count": 5,
   "metadata": {},
   "outputs": [],
   "source": [
    "# load test data\n",
    "\n",
    "df_test = pd.read_csv('sample_submission_v2.csv')"
   ]
  },
  {
   "cell_type": "code",
   "execution_count": 6,
   "metadata": {},
   "outputs": [],
   "source": [
    "# Load members with msno only in the train data\n",
    "\n",
    "df_members = pd.read_csv('members_v3.csv')"
   ]
  },
  {
   "cell_type": "code",
   "execution_count": 7,
   "metadata": {},
   "outputs": [],
   "source": [
    "chunks_trans = pd.read_csv('transactions.csv', iterator=True, chunksize=chunk_size)\n",
    "\n",
    "df_trans = pd.concat(list(chunks_trans), ignore_index=True)"
   ]
  },
  {
   "cell_type": "code",
   "execution_count": 8,
   "metadata": {},
   "outputs": [],
   "source": [
    "df_trans = pd.concat([df_trans, pd.read_csv('transactions_v2.csv')], ignore_index=True)"
   ]
  },
  {
   "cell_type": "code",
   "execution_count": 9,
   "metadata": {},
   "outputs": [],
   "source": [
    "#f,ax=plt.subplots(1,2,figsize=(16,8))\n",
    "#sns.stripplot(x=\"is_churn\", y=\"city\", data=df_members_train, ax=ax[0])\n",
    "#sns.countplot(x='city', data=df_members_train, ax=ax[1])"
   ]
  },
  {
   "cell_type": "code",
   "execution_count": 10,
   "metadata": {},
   "outputs": [],
   "source": [
    "#f,ax=plt.subplots(1,2,figsize=(16,8))\n",
    "#sns.stripplot(x=\"is_churn\", y=\"registered_via\", data=df_members_train, ax=ax[0])\n",
    "#sns.countplot(x='registered_via', data=df_members_train, ax=ax[1])"
   ]
  },
  {
   "cell_type": "markdown",
   "metadata": {},
   "source": [
    "# Features engineering for members.csv"
   ]
  },
  {
   "cell_type": "code",
   "execution_count": 11,
   "metadata": {},
   "outputs": [],
   "source": [
    "#df_members['registration_init_dtime'] = pd.to_datetime(df_members['registration_init_time'],format='%Y%m%d')"
   ]
  },
  {
   "cell_type": "code",
   "execution_count": 12,
   "metadata": {},
   "outputs": [],
   "source": [
    "#from datetime import date\n",
    "\n",
    "#df_members['subscription_days'] = (date(2017,4,30) - df_members['registration_init_time']).dt.days"
   ]
  },
  {
   "cell_type": "code",
   "execution_count": 14,
   "metadata": {},
   "outputs": [],
   "source": [
    "# drop useless columns before merging with df_trans\n",
    "\n",
    "df_members.drop(['gender','bd'],axis=1,inplace=True)"
   ]
  },
  {
   "cell_type": "code",
   "execution_count": 15,
   "metadata": {},
   "outputs": [],
   "source": [
    "#sns.countplot(x='is_churn',data=df_members_train)"
   ]
  },
  {
   "cell_type": "code",
   "execution_count": 16,
   "metadata": {},
   "outputs": [],
   "source": [
    "#f,ax=plt.subplots(1,2,figsize=(16,8))\n",
    "#sns.distplot(df_members_train['subscription_days'], bins=20, ax=ax[0])\n",
    "#sns.countplot(x='subscription_days',data=df_members_train,hue='is_churn', palette='YlGnBu')"
   ]
  },
  {
   "cell_type": "code",
   "execution_count": 17,
   "metadata": {},
   "outputs": [],
   "source": [
    "#sns.pairplot(df_members_train[['city','registered_via','is_churn','subscription_days']], hue='is_churn')"
   ]
  },
  {
   "cell_type": "code",
   "execution_count": 18,
   "metadata": {},
   "outputs": [],
   "source": [
    "df_members_train = pd.merge(df_members, df_train, on='msno', how='right')\n",
    "df_members_test = pd.merge(df_members, df_test, on='msno', how='right')"
   ]
  },
  {
   "cell_type": "code",
   "execution_count": 19,
   "metadata": {},
   "outputs": [
    {
     "data": {
      "text/plain": [
       "(907471, 5)"
      ]
     },
     "execution_count": 19,
     "metadata": {},
     "output_type": "execute_result"
    }
   ],
   "source": [
    "df_members_test.shape"
   ]
  },
  {
   "cell_type": "markdown",
   "metadata": {
    "collapsed": true
   },
   "source": [
    "# Features engineering for transactions.csv"
   ]
  },
  {
   "cell_type": "code",
   "execution_count": 20,
   "metadata": {},
   "outputs": [],
   "source": [
    "# merge df_trans and df_members_trains so only has to process msnos that are in train.csv\n",
    "\n",
    "df_merge = pd.merge(df_trans, pd.concat([df_members_train,df_members_test],ignore_index=True), on='msno', how='right')"
   ]
  },
  {
   "cell_type": "code",
   "execution_count": 21,
   "metadata": {},
   "outputs": [],
   "source": [
    "# drop rows that have no payments\n",
    "\n",
    "#df_merge = df_merge.drop(df_merge[df_merge['actual_amount_paid'] <= 0].index)"
   ]
  },
  {
   "cell_type": "code",
   "execution_count": 22,
   "metadata": {},
   "outputs": [],
   "source": [
    "# Format dates columns into datetime\n",
    "\n",
    "df_merge['transaction_dtime'] = pd.to_datetime(df_merge['transaction_date'],format='%Y%m%d')\n",
    "df_merge['membership_expire_dtime'] = pd.to_datetime(df_merge['membership_expire_date'],format='%Y%m%d')"
   ]
  },
  {
   "cell_type": "code",
   "execution_count": 23,
   "metadata": {},
   "outputs": [],
   "source": [
    "# Re-calculate payment_plan_days if 0\n",
    "\n",
    "#df_merge['payment_plan_days'] = np.where(df_merge['payment_plan_days']==0,(df_merge['membership_expire_dtime']-df_merge['transaction_dtime']).dt.days,df_merge['payment_plan_days'])\n",
    "\n",
    "df_merge.loc[df_merge['payment_plan_days']==0,'payment_plan_days'] = (df_merge['membership_expire_dtime']-df_merge['transaction_dtime']).dt.days"
   ]
  },
  {
   "cell_type": "code",
   "execution_count": 25,
   "metadata": {},
   "outputs": [],
   "source": [
    "#Set payment_plan_days back to 0 if re-calculation is -ive\n",
    "\n",
    "df_merge.loc[df_merge['payment_plan_days']<0,'payment_plan_days'] = 0"
   ]
  },
  {
   "cell_type": "code",
   "execution_count": 26,
   "metadata": {},
   "outputs": [],
   "source": [
    "#a If plan_list_price is 0 assume it is actual_amount_paid\n",
    "\n",
    "df_merge.loc[df_merge['plan_list_price']<=0,'plan_list_price'] = df_merge['actual_amount_paid']"
   ]
  },
  {
   "cell_type": "code",
   "execution_count": 27,
   "metadata": {},
   "outputs": [],
   "source": [
    "groupby_msno = df_merge.groupby(df_merge['msno'])"
   ]
  },
  {
   "cell_type": "code",
   "execution_count": 28,
   "metadata": {},
   "outputs": [],
   "source": [
    "# Count # of transactions\n",
    "\n",
    "df_merge['trans_count'] = groupby_msno['payment_method_id'].transform('count')"
   ]
  },
  {
   "cell_type": "code",
   "execution_count": 29,
   "metadata": {},
   "outputs": [],
   "source": [
    "# Total subscription days\n",
    "\n",
    "df_merge['total_pay_days'] = groupby_msno['payment_plan_days'].transform('sum')"
   ]
  },
  {
   "cell_type": "code",
   "execution_count": 30,
   "metadata": {},
   "outputs": [],
   "source": [
    "# Average payment in each transaction\n",
    "\n",
    "df_merge['avg_pay'] = groupby_msno['actual_amount_paid'].transform('mean')"
   ]
  },
  {
   "cell_type": "code",
   "execution_count": 31,
   "metadata": {},
   "outputs": [],
   "source": [
    "# Total subscription payment\n",
    "\n",
    "df_merge['total_payments'] = groupby_msno['actual_amount_paid'].transform('sum')"
   ]
  },
  {
   "cell_type": "code",
   "execution_count": 32,
   "metadata": {},
   "outputs": [],
   "source": [
    "# Assume is_cancel = 1 with actual payment > 0 is a plan change; count the total number of plan changes\n",
    "\n",
    "#df_merge['count_plan_change'] = groupby_msno['is_cancel'].transform(lambda x: (x==1).sum())"
   ]
  },
  {
   "cell_type": "code",
   "execution_count": 33,
   "metadata": {},
   "outputs": [],
   "source": [
    "# Count # of auto_renew\n",
    "\n",
    "#df_merge['count_auto_renew'] = groupby_msno['is_auto_renew'].transform(lambda x: (x==1).sum())"
   ]
  },
  {
   "cell_type": "code",
   "execution_count": 46,
   "metadata": {},
   "outputs": [],
   "source": [
    "# Average list Price\n",
    "\n",
    "df_merge['avg_list_price'] = groupby_msno['plan_list_price'].transform('mean')"
   ]
  },
  {
   "cell_type": "code",
   "execution_count": 36,
   "metadata": {},
   "outputs": [],
   "source": [
    "# Keep only the record with the most recent transaction date \n",
    "\n",
    "df_merge = df_merge.sort_values(by=['transaction_date'], ascending=False).reset_index(drop=True)\n",
    "df_merge.drop_duplicates('msno',keep='first',inplace=True)"
   ]
  },
  {
   "cell_type": "code",
   "execution_count": null,
   "metadata": {},
   "outputs": [],
   "source": [
    "# Calculate last transaction is how many days ago from April\n",
    "\n",
    "#df_merge['last_trans_days_ago'] = (date(2017,4,30) - df_merge['transaction_date']).dt.days"
   ]
  },
  {
   "cell_type": "code",
   "execution_count": null,
   "metadata": {},
   "outputs": [],
   "source": [
    "#df_merge['membership_expiry_days'] = (date(2017,4,30) - df_merge['membership_expire_date']).dt.days"
   ]
  },
  {
   "cell_type": "code",
   "execution_count": 47,
   "metadata": {},
   "outputs": [],
   "source": [
    "df_merge_train = pd.merge(df_merge.drop('is_churn',axis=1), df_train, on='msno', how='right')\n",
    "df_merge_test = pd.merge(df_merge.drop('is_churn',axis=1), df_test, on='msno', how='right')"
   ]
  },
  {
   "cell_type": "code",
   "execution_count": 48,
   "metadata": {},
   "outputs": [],
   "source": [
    "df_merge_test.drop('is_churn',inplace=True,axis=1)"
   ]
  },
  {
   "cell_type": "markdown",
   "metadata": {},
   "source": [
    "# Training the models"
   ]
  },
  {
   "cell_type": "code",
   "execution_count": 44,
   "metadata": {},
   "outputs": [],
   "source": [
    "from sklearn.model_selection import train_test_split"
   ]
  },
  {
   "cell_type": "code",
   "execution_count": 49,
   "metadata": {},
   "outputs": [],
   "source": [
    "features = ['city', \n",
    "            'registered_via', \n",
    "            'trans_count', \n",
    "            'total_pay_days', \n",
    "            'avg_pay', \n",
    "            'total_payments', \n",
    "            'is_cancel', \n",
    "            'is_auto_renew', \n",
    "            'avg_list_price',\n",
    "            'registration_init_time',\n",
    "            'transaction_date',\n",
    "            'membership_expire_date',\n",
    "            'payment_method_id',\n",
    "            'payment_plan_days',\n",
    "            'actual_amount_paid',\n",
    "            'plan_list_price']\n",
    "\n",
    "X = df_merge_train[features]\n",
    "y = df_merge_train['is_churn']"
   ]
  },
  {
   "cell_type": "code",
   "execution_count": 50,
   "metadata": {},
   "outputs": [],
   "source": [
    "X_train, X_test, y_train, y_test = train_test_split(X, y, test_size=0.30, random_state=101)"
   ]
  },
  {
   "cell_type": "markdown",
   "metadata": {},
   "source": [
    "# XGBoost with RandomizeSearchCV"
   ]
  },
  {
   "cell_type": "code",
   "execution_count": 51,
   "metadata": {},
   "outputs": [
    {
     "name": "stderr",
     "output_type": "stream",
     "text": [
      "/Users/whyi/Applications/anaconda/envs/MachineLearning/lib/python3.6/site-packages/sklearn/cross_validation.py:41: DeprecationWarning: This module was deprecated in version 0.18 in favor of the model_selection module into which all the refactored classes and functions are moved. Also note that the interface of the new CV iterators are different from that of this module. This module will be removed in 0.20.\n",
      "  \"This module will be removed in 0.20.\", DeprecationWarning)\n"
     ]
    }
   ],
   "source": [
    "from xgboost import XGBClassifier"
   ]
  },
  {
   "cell_type": "code",
   "execution_count": 52,
   "metadata": {},
   "outputs": [],
   "source": [
    "xgb = XGBClassifier(max_depth=7,learning_rate=0.02,n_estimators=300,silent=False,objective='binary:logistic', seed=50)"
   ]
  },
  {
   "cell_type": "code",
   "execution_count": 66,
   "metadata": {
    "collapsed": true
   },
   "outputs": [
    {
     "name": "stdout",
     "output_type": "stream",
     "text": [
      "[0]\tvalidation_0-logloss:0.675237\n",
      "Will train until validation_0-logloss hasn't improved in 30 rounds.\n",
      "[1]\tvalidation_0-logloss:0.658029\n",
      "[2]\tvalidation_0-logloss:0.641483\n",
      "[3]\tvalidation_0-logloss:0.625563\n",
      "[4]\tvalidation_0-logloss:0.610236\n",
      "[5]\tvalidation_0-logloss:0.595468\n",
      "[6]\tvalidation_0-logloss:0.581234\n",
      "[7]\tvalidation_0-logloss:0.567501\n",
      "[8]\tvalidation_0-logloss:0.554249\n",
      "[9]\tvalidation_0-logloss:0.541452\n",
      "[10]\tvalidation_0-logloss:0.529091\n",
      "[11]\tvalidation_0-logloss:0.517144\n",
      "[12]\tvalidation_0-logloss:0.505586\n",
      "[13]\tvalidation_0-logloss:0.494416\n",
      "[14]\tvalidation_0-logloss:0.483597\n",
      "[15]\tvalidation_0-logloss:0.473128\n",
      "[16]\tvalidation_0-logloss:0.462993\n",
      "[17]\tvalidation_0-logloss:0.453178\n",
      "[18]\tvalidation_0-logloss:0.443666\n",
      "[19]\tvalidation_0-logloss:0.434443\n",
      "[20]\tvalidation_0-logloss:0.425494\n",
      "[21]\tvalidation_0-logloss:0.416822\n",
      "[22]\tvalidation_0-logloss:0.408403\n",
      "[23]\tvalidation_0-logloss:0.400238\n",
      "[24]\tvalidation_0-logloss:0.392307\n",
      "[25]\tvalidation_0-logloss:0.384609\n",
      "[26]\tvalidation_0-logloss:0.377131\n",
      "[27]\tvalidation_0-logloss:0.369868\n",
      "[28]\tvalidation_0-logloss:0.362808\n",
      "[29]\tvalidation_0-logloss:0.355954\n",
      "[30]\tvalidation_0-logloss:0.349289\n",
      "[31]\tvalidation_0-logloss:0.342806\n",
      "[32]\tvalidation_0-logloss:0.336509\n",
      "[33]\tvalidation_0-logloss:0.330388\n",
      "[34]\tvalidation_0-logloss:0.324431\n",
      "[35]\tvalidation_0-logloss:0.318632\n",
      "[36]\tvalidation_0-logloss:0.312996\n",
      "[37]\tvalidation_0-logloss:0.307504\n",
      "[38]\tvalidation_0-logloss:0.302148\n",
      "[39]\tvalidation_0-logloss:0.296941\n",
      "[40]\tvalidation_0-logloss:0.291864\n",
      "[41]\tvalidation_0-logloss:0.286931\n",
      "[42]\tvalidation_0-logloss:0.282126\n",
      "[43]\tvalidation_0-logloss:0.277438\n",
      "[44]\tvalidation_0-logloss:0.272865\n",
      "[45]\tvalidation_0-logloss:0.268408\n",
      "[46]\tvalidation_0-logloss:0.264067\n",
      "[47]\tvalidation_0-logloss:0.259839\n",
      "[48]\tvalidation_0-logloss:0.255723\n",
      "[49]\tvalidation_0-logloss:0.251692\n",
      "[50]\tvalidation_0-logloss:0.247763\n",
      "[51]\tvalidation_0-logloss:0.24394\n",
      "[52]\tvalidation_0-logloss:0.240204\n",
      "[53]\tvalidation_0-logloss:0.236559\n",
      "[54]\tvalidation_0-logloss:0.233006\n",
      "[55]\tvalidation_0-logloss:0.229543\n",
      "[56]\tvalidation_0-logloss:0.22616\n",
      "[57]\tvalidation_0-logloss:0.222872\n",
      "[58]\tvalidation_0-logloss:0.219645\n",
      "[59]\tvalidation_0-logloss:0.216505\n",
      "[60]\tvalidation_0-logloss:0.213451\n",
      "[61]\tvalidation_0-logloss:0.210462\n",
      "[62]\tvalidation_0-logloss:0.207543\n",
      "[63]\tvalidation_0-logloss:0.204696\n",
      "[64]\tvalidation_0-logloss:0.201916\n",
      "[65]\tvalidation_0-logloss:0.199216\n",
      "[66]\tvalidation_0-logloss:0.19657\n",
      "[67]\tvalidation_0-logloss:0.193976\n",
      "[68]\tvalidation_0-logloss:0.191449\n",
      "[69]\tvalidation_0-logloss:0.188983\n",
      "[70]\tvalidation_0-logloss:0.186569\n",
      "[71]\tvalidation_0-logloss:0.184217\n",
      "[72]\tvalidation_0-logloss:0.181915\n",
      "[73]\tvalidation_0-logloss:0.179672\n",
      "[74]\tvalidation_0-logloss:0.177474\n",
      "[75]\tvalidation_0-logloss:0.175326\n",
      "[76]\tvalidation_0-logloss:0.17323\n",
      "[77]\tvalidation_0-logloss:0.171185\n",
      "[78]\tvalidation_0-logloss:0.16918\n",
      "[79]\tvalidation_0-logloss:0.167231\n",
      "[80]\tvalidation_0-logloss:0.165324\n",
      "[81]\tvalidation_0-logloss:0.16346\n",
      "[82]\tvalidation_0-logloss:0.161639\n",
      "[83]\tvalidation_0-logloss:0.159859\n",
      "[84]\tvalidation_0-logloss:0.158125\n",
      "[85]\tvalidation_0-logloss:0.156422\n",
      "[86]\tvalidation_0-logloss:0.154764\n",
      "[87]\tvalidation_0-logloss:0.153146\n",
      "[88]\tvalidation_0-logloss:0.151564\n",
      "[89]\tvalidation_0-logloss:0.150022\n",
      "[90]\tvalidation_0-logloss:0.148514\n",
      "[91]\tvalidation_0-logloss:0.147039\n",
      "[92]\tvalidation_0-logloss:0.145568\n",
      "[93]\tvalidation_0-logloss:0.144152\n",
      "[94]\tvalidation_0-logloss:0.142782\n",
      "[95]\tvalidation_0-logloss:0.141436\n",
      "[96]\tvalidation_0-logloss:0.140124\n",
      "[97]\tvalidation_0-logloss:0.13884\n",
      "[98]\tvalidation_0-logloss:0.137596\n",
      "[99]\tvalidation_0-logloss:0.13637\n",
      "[100]\tvalidation_0-logloss:0.135152\n",
      "[101]\tvalidation_0-logloss:0.133987\n",
      "[102]\tvalidation_0-logloss:0.132838\n",
      "[103]\tvalidation_0-logloss:0.131727\n",
      "[104]\tvalidation_0-logloss:0.130629\n",
      "[105]\tvalidation_0-logloss:0.12956\n",
      "[106]\tvalidation_0-logloss:0.128513\n",
      "[107]\tvalidation_0-logloss:0.1275\n",
      "[108]\tvalidation_0-logloss:0.126506\n",
      "[109]\tvalidation_0-logloss:0.125533\n",
      "[110]\tvalidation_0-logloss:0.124587\n",
      "[111]\tvalidation_0-logloss:0.123656\n",
      "[112]\tvalidation_0-logloss:0.122753\n",
      "[113]\tvalidation_0-logloss:0.121839\n",
      "[114]\tvalidation_0-logloss:0.120944\n",
      "[115]\tvalidation_0-logloss:0.120067\n",
      "[116]\tvalidation_0-logloss:0.119208\n",
      "[117]\tvalidation_0-logloss:0.118395\n",
      "[118]\tvalidation_0-logloss:0.117573\n",
      "[119]\tvalidation_0-logloss:0.116767\n",
      "[120]\tvalidation_0-logloss:0.115981\n",
      "[121]\tvalidation_0-logloss:0.115239\n",
      "[122]\tvalidation_0-logloss:0.114488\n",
      "[123]\tvalidation_0-logloss:0.113753\n",
      "[124]\tvalidation_0-logloss:0.113039\n",
      "[125]\tvalidation_0-logloss:0.112366\n",
      "[126]\tvalidation_0-logloss:0.111681\n",
      "[127]\tvalidation_0-logloss:0.111023\n",
      "[128]\tvalidation_0-logloss:0.110395\n",
      "[129]\tvalidation_0-logloss:0.109765\n",
      "[130]\tvalidation_0-logloss:0.10914\n",
      "[131]\tvalidation_0-logloss:0.108534\n",
      "[132]\tvalidation_0-logloss:0.107914\n",
      "[133]\tvalidation_0-logloss:0.107308\n",
      "[134]\tvalidation_0-logloss:0.106716\n",
      "[135]\tvalidation_0-logloss:0.106142\n",
      "[136]\tvalidation_0-logloss:0.105578\n",
      "[137]\tvalidation_0-logloss:0.105031\n",
      "[138]\tvalidation_0-logloss:0.104496\n",
      "[139]\tvalidation_0-logloss:0.103947\n",
      "[140]\tvalidation_0-logloss:0.103412\n",
      "[141]\tvalidation_0-logloss:0.102889\n",
      "[142]\tvalidation_0-logloss:0.102379\n",
      "[143]\tvalidation_0-logloss:0.101882\n",
      "[144]\tvalidation_0-logloss:0.101394\n",
      "[145]\tvalidation_0-logloss:0.10093\n",
      "[146]\tvalidation_0-logloss:0.100461\n",
      "[147]\tvalidation_0-logloss:0.100006\n",
      "[148]\tvalidation_0-logloss:0.099563\n",
      "[149]\tvalidation_0-logloss:0.099129\n",
      "[150]\tvalidation_0-logloss:0.09871\n",
      "[151]\tvalidation_0-logloss:0.098288\n",
      "[152]\tvalidation_0-logloss:0.097906\n",
      "[153]\tvalidation_0-logloss:0.097537\n",
      "[154]\tvalidation_0-logloss:0.097168\n",
      "[155]\tvalidation_0-logloss:0.096807\n",
      "[156]\tvalidation_0-logloss:0.096461\n",
      "[157]\tvalidation_0-logloss:0.096128\n",
      "[158]\tvalidation_0-logloss:0.095804\n",
      "[159]\tvalidation_0-logloss:0.095489\n",
      "[160]\tvalidation_0-logloss:0.095179\n",
      "[161]\tvalidation_0-logloss:0.094875\n",
      "[162]\tvalidation_0-logloss:0.09458\n",
      "[163]\tvalidation_0-logloss:0.094288\n",
      "[164]\tvalidation_0-logloss:0.094007\n",
      "[165]\tvalidation_0-logloss:0.093719\n",
      "[166]\tvalidation_0-logloss:0.093448\n",
      "[167]\tvalidation_0-logloss:0.093185\n",
      "[168]\tvalidation_0-logloss:0.092853\n",
      "[169]\tvalidation_0-logloss:0.092542\n",
      "[170]\tvalidation_0-logloss:0.092297\n",
      "[171]\tvalidation_0-logloss:0.091992\n",
      "[172]\tvalidation_0-logloss:0.091759\n",
      "[173]\tvalidation_0-logloss:0.091466\n",
      "[174]\tvalidation_0-logloss:0.091194\n",
      "[175]\tvalidation_0-logloss:0.090958\n",
      "[176]\tvalidation_0-logloss:0.090701\n",
      "[177]\tvalidation_0-logloss:0.09044\n",
      "[178]\tvalidation_0-logloss:0.090199\n",
      "[179]\tvalidation_0-logloss:0.089997\n",
      "[180]\tvalidation_0-logloss:0.089764\n",
      "[181]\tvalidation_0-logloss:0.089569\n",
      "[182]\tvalidation_0-logloss:0.089351\n",
      "[183]\tvalidation_0-logloss:0.089136\n",
      "[184]\tvalidation_0-logloss:0.088966\n",
      "[185]\tvalidation_0-logloss:0.088788\n",
      "[186]\tvalidation_0-logloss:0.088622\n",
      "[187]\tvalidation_0-logloss:0.088454\n",
      "[188]\tvalidation_0-logloss:0.088294\n",
      "[189]\tvalidation_0-logloss:0.088143\n",
      "[190]\tvalidation_0-logloss:0.087978\n",
      "[191]\tvalidation_0-logloss:0.087808\n",
      "[192]\tvalidation_0-logloss:0.087649\n",
      "[193]\tvalidation_0-logloss:0.087511\n",
      "[194]\tvalidation_0-logloss:0.087361\n",
      "[195]\tvalidation_0-logloss:0.087205\n",
      "[196]\tvalidation_0-logloss:0.087066\n",
      "[197]\tvalidation_0-logloss:0.086926\n",
      "[198]\tvalidation_0-logloss:0.086795\n",
      "[199]\tvalidation_0-logloss:0.086662\n",
      "[200]\tvalidation_0-logloss:0.086557\n",
      "[201]\tvalidation_0-logloss:0.086426\n",
      "[202]\tvalidation_0-logloss:0.086313\n",
      "[203]\tvalidation_0-logloss:0.086203\n",
      "[204]\tvalidation_0-logloss:0.086082\n",
      "[205]\tvalidation_0-logloss:0.085944\n",
      "[206]\tvalidation_0-logloss:0.085808\n",
      "[207]\tvalidation_0-logloss:0.085676\n",
      "[208]\tvalidation_0-logloss:0.085546\n",
      "[209]\tvalidation_0-logloss:0.085391\n",
      "[210]\tvalidation_0-logloss:0.085267\n",
      "[211]\tvalidation_0-logloss:0.085118\n",
      "[212]\tvalidation_0-logloss:0.084993\n",
      "[213]\tvalidation_0-logloss:0.084867\n",
      "[214]\tvalidation_0-logloss:0.084743\n",
      "[215]\tvalidation_0-logloss:0.084622\n",
      "[216]\tvalidation_0-logloss:0.084503\n",
      "[217]\tvalidation_0-logloss:0.084389\n",
      "[218]\tvalidation_0-logloss:0.084272\n",
      "[219]\tvalidation_0-logloss:0.084171\n",
      "[220]\tvalidation_0-logloss:0.084072\n",
      "[221]\tvalidation_0-logloss:0.083976\n",
      "[222]\tvalidation_0-logloss:0.083881\n",
      "[223]\tvalidation_0-logloss:0.083789\n",
      "[224]\tvalidation_0-logloss:0.0837\n",
      "[225]\tvalidation_0-logloss:0.083611\n",
      "[226]\tvalidation_0-logloss:0.083525\n",
      "[227]\tvalidation_0-logloss:0.083441\n",
      "[228]\tvalidation_0-logloss:0.083358\n",
      "[229]\tvalidation_0-logloss:0.083279\n"
     ]
    },
    {
     "name": "stdout",
     "output_type": "stream",
     "text": [
      "[230]\tvalidation_0-logloss:0.0832\n",
      "[231]\tvalidation_0-logloss:0.083124\n",
      "[232]\tvalidation_0-logloss:0.083049\n",
      "[233]\tvalidation_0-logloss:0.082976\n",
      "[234]\tvalidation_0-logloss:0.082905\n",
      "[235]\tvalidation_0-logloss:0.082837\n",
      "[236]\tvalidation_0-logloss:0.082769\n",
      "[237]\tvalidation_0-logloss:0.082704\n",
      "[238]\tvalidation_0-logloss:0.082639\n",
      "[239]\tvalidation_0-logloss:0.082581\n",
      "[240]\tvalidation_0-logloss:0.082523\n",
      "[241]\tvalidation_0-logloss:0.082461\n",
      "[242]\tvalidation_0-logloss:0.082405\n",
      "[243]\tvalidation_0-logloss:0.08235\n",
      "[244]\tvalidation_0-logloss:0.082139\n",
      "[245]\tvalidation_0-logloss:0.082085\n",
      "[246]\tvalidation_0-logloss:0.082029\n",
      "[247]\tvalidation_0-logloss:0.081837\n",
      "[248]\tvalidation_0-logloss:0.081786\n",
      "[249]\tvalidation_0-logloss:0.081736\n",
      "[250]\tvalidation_0-logloss:0.08156\n",
      "[251]\tvalidation_0-logloss:0.081512\n",
      "[252]\tvalidation_0-logloss:0.081465\n",
      "[253]\tvalidation_0-logloss:0.081284\n",
      "[254]\tvalidation_0-logloss:0.08124\n",
      "[255]\tvalidation_0-logloss:0.081196\n",
      "[256]\tvalidation_0-logloss:0.081148\n",
      "[257]\tvalidation_0-logloss:0.080981\n",
      "[258]\tvalidation_0-logloss:0.080939\n",
      "[259]\tvalidation_0-logloss:0.080899\n",
      "[260]\tvalidation_0-logloss:0.080869\n",
      "[261]\tvalidation_0-logloss:0.080829\n",
      "[262]\tvalidation_0-logloss:0.080801\n",
      "[263]\tvalidation_0-logloss:0.080767\n",
      "[264]\tvalidation_0-logloss:0.080733\n",
      "[265]\tvalidation_0-logloss:0.080696\n",
      "[266]\tvalidation_0-logloss:0.080665\n",
      "[267]\tvalidation_0-logloss:0.080632\n",
      "[268]\tvalidation_0-logloss:0.080596\n",
      "[269]\tvalidation_0-logloss:0.080466\n",
      "[270]\tvalidation_0-logloss:0.080432\n",
      "[271]\tvalidation_0-logloss:0.080403\n",
      "[272]\tvalidation_0-logloss:0.080371\n",
      "[273]\tvalidation_0-logloss:0.080342\n",
      "[274]\tvalidation_0-logloss:0.080313\n",
      "[275]\tvalidation_0-logloss:0.080279\n",
      "[276]\tvalidation_0-logloss:0.080253\n",
      "[277]\tvalidation_0-logloss:0.080222\n",
      "[278]\tvalidation_0-logloss:0.080197\n",
      "[279]\tvalidation_0-logloss:0.080167\n",
      "[280]\tvalidation_0-logloss:0.08014\n",
      "[281]\tvalidation_0-logloss:0.080113\n",
      "[282]\tvalidation_0-logloss:0.080084\n",
      "[283]\tvalidation_0-logloss:0.080061\n",
      "[284]\tvalidation_0-logloss:0.080032\n",
      "[285]\tvalidation_0-logloss:0.080009\n",
      "[286]\tvalidation_0-logloss:0.080004\n",
      "[287]\tvalidation_0-logloss:0.079979\n",
      "[288]\tvalidation_0-logloss:0.079962\n",
      "[289]\tvalidation_0-logloss:0.079958\n",
      "[290]\tvalidation_0-logloss:0.079933\n",
      "[291]\tvalidation_0-logloss:0.079928\n",
      "[292]\tvalidation_0-logloss:0.079768\n",
      "[293]\tvalidation_0-logloss:0.079744\n",
      "[294]\tvalidation_0-logloss:0.07974\n",
      "[295]\tvalidation_0-logloss:0.079717\n",
      "[296]\tvalidation_0-logloss:0.079713\n",
      "[297]\tvalidation_0-logloss:0.07971\n",
      "[298]\tvalidation_0-logloss:0.079688\n",
      "[299]\tvalidation_0-logloss:0.079665\n"
     ]
    },
    {
     "data": {
      "text/plain": [
       "XGBClassifier(base_score=0.5, colsample_bylevel=1, colsample_bytree=1,\n",
       "       gamma=0, learning_rate=0.02, max_delta_step=0, max_depth=7,\n",
       "       min_child_weight=1, missing=None, n_estimators=300, nthread=-1,\n",
       "       objective='binary:logistic', reg_alpha=0, reg_lambda=1,\n",
       "       scale_pos_weight=1, seed=50, silent=False, subsample=1)"
      ]
     },
     "execution_count": 66,
     "metadata": {},
     "output_type": "execute_result"
    }
   ],
   "source": [
    "eval_set = [(X_test, y_test)]\n",
    "\n",
    "xgb.fit(X_train, y_train, eval_set=eval_set, eval_metric='logloss', early_stopping_rounds=30)"
   ]
  },
  {
   "cell_type": "markdown",
   "metadata": {},
   "source": [
    "# Prediction and Evaluations"
   ]
  },
  {
   "cell_type": "code",
   "execution_count": 99,
   "metadata": {},
   "outputs": [],
   "source": [
    "predictions = xgb.predict_proba(X_test)"
   ]
  },
  {
   "cell_type": "code",
   "execution_count": 88,
   "metadata": {},
   "outputs": [],
   "source": [
    "from sklearn.metrics import classification_report,confusion_matrix,log_loss"
   ]
  },
  {
   "cell_type": "code",
   "execution_count": 89,
   "metadata": {},
   "outputs": [
    {
     "name": "stdout",
     "output_type": "stream",
     "text": [
      "[[281355   3143]\n",
      " [  5674  34485]]\n"
     ]
    }
   ],
   "source": [
    "print(confusion_matrix(y_test,predictions))"
   ]
  },
  {
   "cell_type": "code",
   "execution_count": 90,
   "metadata": {},
   "outputs": [
    {
     "name": "stdout",
     "output_type": "stream",
     "text": [
      "             precision    recall  f1-score   support\n",
      "\n",
      "          0       0.98      0.99      0.98    284498\n",
      "          1       0.92      0.86      0.89     40159\n",
      "\n",
      "avg / total       0.97      0.97      0.97    324657\n",
      "\n"
     ]
    }
   ],
   "source": [
    "print(classification_report(y_test,predictions))"
   ]
  },
  {
   "cell_type": "code",
   "execution_count": 100,
   "metadata": {},
   "outputs": [
    {
     "name": "stdout",
     "output_type": "stream",
     "text": [
      "0.0796651923464\n"
     ]
    }
   ],
   "source": [
    "print(log_loss(y_test,predictions))"
   ]
  },
  {
   "cell_type": "code",
   "execution_count": 101,
   "metadata": {},
   "outputs": [
    {
     "data": {
      "text/plain": [
       "array([[ 0.86457932,  0.13542067],\n",
       "       [ 0.99721152,  0.00278846],\n",
       "       [ 0.99742669,  0.00257329],\n",
       "       ..., \n",
       "       [ 0.02027071,  0.97972929],\n",
       "       [ 0.99792111,  0.00207887],\n",
       "       [ 0.99791968,  0.00208029]], dtype=float32)"
      ]
     },
     "execution_count": 101,
     "metadata": {},
     "output_type": "execute_result"
    }
   ],
   "source": [
    "predictions"
   ]
  },
  {
   "cell_type": "code",
   "execution_count": 72,
   "metadata": {},
   "outputs": [
    {
     "data": {
      "text/plain": [
       "<matplotlib.axes._subplots.AxesSubplot at 0x125264908>"
      ]
     },
     "execution_count": 72,
     "metadata": {},
     "output_type": "execute_result"
    },
    {
     "data": {
      "image/png": "[encoded data removed]",
      "text/plain": [
       "<matplotlib.figure.Figure at 0x125216208>"
      ]
     },
     "metadata": {},
     "output_type": "display_data"
    }
   ],
   "source": [
    "from xgboost import plot_importance\n",
    "\n",
    "plot_importance(xgb)"
   ]
  },
  {
   "cell_type": "markdown",
   "metadata": {},
   "source": [
    "# Tuning XGBoost\n",
    "\n",
    "max_depth=10\n",
    "min_child_weight=5"
   ]
  },
  {
   "cell_type": "code",
   "execution_count": 74,
   "metadata": {},
   "outputs": [],
   "source": [
    "import xgboost as xgbt"
   ]
  },
  {
   "cell_type": "code",
   "execution_count": 76,
   "metadata": {},
   "outputs": [],
   "source": [
    "d_train = xgbt.DMatrix(X_train, label=y_train)\n",
    "d_test = xgbt.DMatrix(X_test, label=y_test)"
   ]
  },
  {
   "cell_type": "code",
   "execution_count": 77,
   "metadata": {},
   "outputs": [],
   "source": [
    "params = {\n",
    "    # Parameters that we are going to tune.\n",
    "    'max_depth':6,\n",
    "    'min_child_weight': 1,\n",
    "    'eta':.3,\n",
    "    'subsample': 1,\n",
    "    'colsample_bytree': 1,\n",
    "    # Other parameters\n",
    "    'objective':'binary:logistic',\n",
    "    'eval_metric': \"logloss\"\n",
    "}"
   ]
  },
  {
   "cell_type": "code",
   "execution_count": 78,
   "metadata": {
    "collapsed": true
   },
   "outputs": [
    {
     "name": "stdout",
     "output_type": "stream",
     "text": [
      "[0]\tis_churn-logloss:0.463522\n",
      "Will train until is_churn-logloss hasn't improved in 10 rounds.\n",
      "[1]\tis_churn-logloss:0.337259\n",
      "[2]\tis_churn-logloss:0.25878\n",
      "[3]\tis_churn-logloss:0.205563\n",
      "[4]\tis_churn-logloss:0.169425\n",
      "[5]\tis_churn-logloss:0.144182\n",
      "[6]\tis_churn-logloss:0.12645\n",
      "[7]\tis_churn-logloss:0.113955\n",
      "[8]\tis_churn-logloss:0.10491\n",
      "[9]\tis_churn-logloss:0.098245\n",
      "[10]\tis_churn-logloss:0.092863\n",
      "[11]\tis_churn-logloss:0.089441\n",
      "[12]\tis_churn-logloss:0.08706\n",
      "[13]\tis_churn-logloss:0.084983\n",
      "[14]\tis_churn-logloss:0.08365\n",
      "[15]\tis_churn-logloss:0.082696\n",
      "[16]\tis_churn-logloss:0.082017\n",
      "[17]\tis_churn-logloss:0.080526\n",
      "[18]\tis_churn-logloss:0.079999\n",
      "[19]\tis_churn-logloss:0.079676\n",
      "[20]\tis_churn-logloss:0.07943\n",
      "[21]\tis_churn-logloss:0.079036\n",
      "[22]\tis_churn-logloss:0.078712\n",
      "[23]\tis_churn-logloss:0.07853\n",
      "[24]\tis_churn-logloss:0.078317\n",
      "[25]\tis_churn-logloss:0.078225\n",
      "[26]\tis_churn-logloss:0.078165\n",
      "[27]\tis_churn-logloss:0.078109\n",
      "[28]\tis_churn-logloss:0.078088\n",
      "[29]\tis_churn-logloss:0.078084\n",
      "[30]\tis_churn-logloss:0.078077\n",
      "[31]\tis_churn-logloss:0.078079\n",
      "[32]\tis_churn-logloss:0.078074\n",
      "[33]\tis_churn-logloss:0.078054\n",
      "[34]\tis_churn-logloss:0.07805\n",
      "[35]\tis_churn-logloss:0.078042\n",
      "[36]\tis_churn-logloss:0.078037\n",
      "[37]\tis_churn-logloss:0.078027\n",
      "[38]\tis_churn-logloss:0.078027\n",
      "[39]\tis_churn-logloss:0.078027\n",
      "[40]\tis_churn-logloss:0.078025\n",
      "[41]\tis_churn-logloss:0.078026\n",
      "[42]\tis_churn-logloss:0.078027\n",
      "[43]\tis_churn-logloss:0.078025\n",
      "[44]\tis_churn-logloss:0.078022\n",
      "[45]\tis_churn-logloss:0.078026\n",
      "[46]\tis_churn-logloss:0.078028\n",
      "[47]\tis_churn-logloss:0.078027\n",
      "[48]\tis_churn-logloss:0.078026\n",
      "[49]\tis_churn-logloss:0.078024\n",
      "[50]\tis_churn-logloss:0.078028\n",
      "[51]\tis_churn-logloss:0.078029\n",
      "[52]\tis_churn-logloss:0.078031\n",
      "[53]\tis_churn-logloss:0.078032\n",
      "[54]\tis_churn-logloss:0.07803\n",
      "Stopping. Best iteration:\n",
      "[44]\tis_churn-logloss:0.078022\n",
      "\n"
     ]
    }
   ],
   "source": [
    "model = xgbt.train(\n",
    "    params,\n",
    "    d_train,\n",
    "    num_boost_round=999,\n",
    "    evals=[(d_test, 'is_churn')],\n",
    "    early_stopping_rounds=10\n",
    ")"
   ]
  },
  {
   "cell_type": "code",
   "execution_count": 79,
   "metadata": {},
   "outputs": [
    {
     "data": {
      "text/plain": [
       "44"
      ]
     },
     "execution_count": 79,
     "metadata": {},
     "output_type": "execute_result"
    }
   ],
   "source": [
    " model.best_iteration"
   ]
  },
  {
   "cell_type": "code",
   "execution_count": 81,
   "metadata": {
    "collapsed": true
   },
   "outputs": [
    {
     "data": {
      "text/html": [
       "<div>\n",
       "<style>\n",
       "    .dataframe thead tr:only-child th {\n",
       "        text-align: right;\n",
       "    }\n",
       "\n",
       "    .dataframe thead th {\n",
       "        text-align: left;\n",
       "    }\n",
       "\n",
       "    .dataframe tbody tr th {\n",
       "        vertical-align: top;\n",
       "    }\n",
       "</style>\n",
       "<table border=\"1\" class=\"dataframe\">\n",
       "  <thead>\n",
       "    <tr style=\"text-align: right;\">\n",
       "      <th></th>\n",
       "      <th>test-logloss-mean</th>\n",
       "      <th>test-logloss-std</th>\n",
       "      <th>train-logloss-mean</th>\n",
       "      <th>train-logloss-std</th>\n",
       "    </tr>\n",
       "  </thead>\n",
       "  <tbody>\n",
       "    <tr>\n",
       "      <th>0</th>\n",
       "      <td>0.463628</td>\n",
       "      <td>0.000196</td>\n",
       "      <td>0.463565</td>\n",
       "      <td>0.000079</td>\n",
       "    </tr>\n",
       "    <tr>\n",
       "      <th>1</th>\n",
       "      <td>0.337609</td>\n",
       "      <td>0.000360</td>\n",
       "      <td>0.337500</td>\n",
       "      <td>0.000094</td>\n",
       "    </tr>\n",
       "    <tr>\n",
       "      <th>2</th>\n",
       "      <td>0.259260</td>\n",
       "      <td>0.000468</td>\n",
       "      <td>0.259105</td>\n",
       "      <td>0.000156</td>\n",
       "    </tr>\n",
       "    <tr>\n",
       "      <th>3</th>\n",
       "      <td>0.206125</td>\n",
       "      <td>0.000535</td>\n",
       "      <td>0.205936</td>\n",
       "      <td>0.000156</td>\n",
       "    </tr>\n",
       "    <tr>\n",
       "      <th>4</th>\n",
       "      <td>0.170133</td>\n",
       "      <td>0.000600</td>\n",
       "      <td>0.169902</td>\n",
       "      <td>0.000195</td>\n",
       "    </tr>\n",
       "    <tr>\n",
       "      <th>5</th>\n",
       "      <td>0.144985</td>\n",
       "      <td>0.000685</td>\n",
       "      <td>0.144721</td>\n",
       "      <td>0.000145</td>\n",
       "    </tr>\n",
       "    <tr>\n",
       "      <th>6</th>\n",
       "      <td>0.127480</td>\n",
       "      <td>0.000629</td>\n",
       "      <td>0.127167</td>\n",
       "      <td>0.000249</td>\n",
       "    </tr>\n",
       "    <tr>\n",
       "      <th>7</th>\n",
       "      <td>0.115158</td>\n",
       "      <td>0.000663</td>\n",
       "      <td>0.114804</td>\n",
       "      <td>0.000319</td>\n",
       "    </tr>\n",
       "    <tr>\n",
       "      <th>8</th>\n",
       "      <td>0.105840</td>\n",
       "      <td>0.000713</td>\n",
       "      <td>0.105445</td>\n",
       "      <td>0.000340</td>\n",
       "    </tr>\n",
       "    <tr>\n",
       "      <th>9</th>\n",
       "      <td>0.099230</td>\n",
       "      <td>0.000711</td>\n",
       "      <td>0.098778</td>\n",
       "      <td>0.000403</td>\n",
       "    </tr>\n",
       "    <tr>\n",
       "      <th>10</th>\n",
       "      <td>0.094012</td>\n",
       "      <td>0.001023</td>\n",
       "      <td>0.093467</td>\n",
       "      <td>0.000241</td>\n",
       "    </tr>\n",
       "    <tr>\n",
       "      <th>11</th>\n",
       "      <td>0.090808</td>\n",
       "      <td>0.001059</td>\n",
       "      <td>0.090220</td>\n",
       "      <td>0.000282</td>\n",
       "    </tr>\n",
       "    <tr>\n",
       "      <th>12</th>\n",
       "      <td>0.088583</td>\n",
       "      <td>0.001000</td>\n",
       "      <td>0.087962</td>\n",
       "      <td>0.000300</td>\n",
       "    </tr>\n",
       "    <tr>\n",
       "      <th>13</th>\n",
       "      <td>0.086526</td>\n",
       "      <td>0.000837</td>\n",
       "      <td>0.085859</td>\n",
       "      <td>0.000378</td>\n",
       "    </tr>\n",
       "    <tr>\n",
       "      <th>14</th>\n",
       "      <td>0.085009</td>\n",
       "      <td>0.001083</td>\n",
       "      <td>0.084291</td>\n",
       "      <td>0.000264</td>\n",
       "    </tr>\n",
       "    <tr>\n",
       "      <th>15</th>\n",
       "      <td>0.083507</td>\n",
       "      <td>0.001332</td>\n",
       "      <td>0.082741</td>\n",
       "      <td>0.000349</td>\n",
       "    </tr>\n",
       "    <tr>\n",
       "      <th>16</th>\n",
       "      <td>0.082752</td>\n",
       "      <td>0.001345</td>\n",
       "      <td>0.081948</td>\n",
       "      <td>0.000374</td>\n",
       "    </tr>\n",
       "    <tr>\n",
       "      <th>17</th>\n",
       "      <td>0.081984</td>\n",
       "      <td>0.001283</td>\n",
       "      <td>0.081147</td>\n",
       "      <td>0.000393</td>\n",
       "    </tr>\n",
       "    <tr>\n",
       "      <th>18</th>\n",
       "      <td>0.081327</td>\n",
       "      <td>0.000908</td>\n",
       "      <td>0.080463</td>\n",
       "      <td>0.000294</td>\n",
       "    </tr>\n",
       "    <tr>\n",
       "      <th>19</th>\n",
       "      <td>0.080883</td>\n",
       "      <td>0.000919</td>\n",
       "      <td>0.079978</td>\n",
       "      <td>0.000330</td>\n",
       "    </tr>\n",
       "    <tr>\n",
       "      <th>20</th>\n",
       "      <td>0.080580</td>\n",
       "      <td>0.000886</td>\n",
       "      <td>0.079661</td>\n",
       "      <td>0.000293</td>\n",
       "    </tr>\n",
       "    <tr>\n",
       "      <th>21</th>\n",
       "      <td>0.080234</td>\n",
       "      <td>0.000879</td>\n",
       "      <td>0.079274</td>\n",
       "      <td>0.000264</td>\n",
       "    </tr>\n",
       "    <tr>\n",
       "      <th>22</th>\n",
       "      <td>0.079945</td>\n",
       "      <td>0.000902</td>\n",
       "      <td>0.078962</td>\n",
       "      <td>0.000257</td>\n",
       "    </tr>\n",
       "    <tr>\n",
       "      <th>23</th>\n",
       "      <td>0.079739</td>\n",
       "      <td>0.000957</td>\n",
       "      <td>0.078754</td>\n",
       "      <td>0.000315</td>\n",
       "    </tr>\n",
       "    <tr>\n",
       "      <th>24</th>\n",
       "      <td>0.079584</td>\n",
       "      <td>0.001010</td>\n",
       "      <td>0.078568</td>\n",
       "      <td>0.000415</td>\n",
       "    </tr>\n",
       "    <tr>\n",
       "      <th>25</th>\n",
       "      <td>0.079438</td>\n",
       "      <td>0.001074</td>\n",
       "      <td>0.078401</td>\n",
       "      <td>0.000494</td>\n",
       "    </tr>\n",
       "    <tr>\n",
       "      <th>26</th>\n",
       "      <td>0.079268</td>\n",
       "      <td>0.001220</td>\n",
       "      <td>0.078198</td>\n",
       "      <td>0.000699</td>\n",
       "    </tr>\n",
       "    <tr>\n",
       "      <th>27</th>\n",
       "      <td>0.079238</td>\n",
       "      <td>0.001247</td>\n",
       "      <td>0.078136</td>\n",
       "      <td>0.000744</td>\n",
       "    </tr>\n",
       "    <tr>\n",
       "      <th>28</th>\n",
       "      <td>0.079160</td>\n",
       "      <td>0.001233</td>\n",
       "      <td>0.078045</td>\n",
       "      <td>0.000726</td>\n",
       "    </tr>\n",
       "    <tr>\n",
       "      <th>29</th>\n",
       "      <td>0.079130</td>\n",
       "      <td>0.001255</td>\n",
       "      <td>0.077998</td>\n",
       "      <td>0.000707</td>\n",
       "    </tr>\n",
       "    <tr>\n",
       "      <th>...</th>\n",
       "      <td>...</td>\n",
       "      <td>...</td>\n",
       "      <td>...</td>\n",
       "      <td>...</td>\n",
       "    </tr>\n",
       "    <tr>\n",
       "      <th>44</th>\n",
       "      <td>0.079034</td>\n",
       "      <td>0.001306</td>\n",
       "      <td>0.077797</td>\n",
       "      <td>0.000729</td>\n",
       "    </tr>\n",
       "    <tr>\n",
       "      <th>45</th>\n",
       "      <td>0.079034</td>\n",
       "      <td>0.001307</td>\n",
       "      <td>0.077783</td>\n",
       "      <td>0.000734</td>\n",
       "    </tr>\n",
       "    <tr>\n",
       "      <th>46</th>\n",
       "      <td>0.079032</td>\n",
       "      <td>0.001305</td>\n",
       "      <td>0.077771</td>\n",
       "      <td>0.000739</td>\n",
       "    </tr>\n",
       "    <tr>\n",
       "      <th>47</th>\n",
       "      <td>0.079032</td>\n",
       "      <td>0.001303</td>\n",
       "      <td>0.077758</td>\n",
       "      <td>0.000740</td>\n",
       "    </tr>\n",
       "    <tr>\n",
       "      <th>48</th>\n",
       "      <td>0.079031</td>\n",
       "      <td>0.001305</td>\n",
       "      <td>0.077749</td>\n",
       "      <td>0.000742</td>\n",
       "    </tr>\n",
       "    <tr>\n",
       "      <th>49</th>\n",
       "      <td>0.079030</td>\n",
       "      <td>0.001305</td>\n",
       "      <td>0.077742</td>\n",
       "      <td>0.000744</td>\n",
       "    </tr>\n",
       "    <tr>\n",
       "      <th>50</th>\n",
       "      <td>0.079027</td>\n",
       "      <td>0.001304</td>\n",
       "      <td>0.077732</td>\n",
       "      <td>0.000745</td>\n",
       "    </tr>\n",
       "    <tr>\n",
       "      <th>51</th>\n",
       "      <td>0.079028</td>\n",
       "      <td>0.001304</td>\n",
       "      <td>0.077726</td>\n",
       "      <td>0.000747</td>\n",
       "    </tr>\n",
       "    <tr>\n",
       "      <th>52</th>\n",
       "      <td>0.079028</td>\n",
       "      <td>0.001301</td>\n",
       "      <td>0.077719</td>\n",
       "      <td>0.000750</td>\n",
       "    </tr>\n",
       "    <tr>\n",
       "      <th>53</th>\n",
       "      <td>0.079030</td>\n",
       "      <td>0.001300</td>\n",
       "      <td>0.077713</td>\n",
       "      <td>0.000753</td>\n",
       "    </tr>\n",
       "    <tr>\n",
       "      <th>54</th>\n",
       "      <td>0.079029</td>\n",
       "      <td>0.001300</td>\n",
       "      <td>0.077704</td>\n",
       "      <td>0.000755</td>\n",
       "    </tr>\n",
       "    <tr>\n",
       "      <th>55</th>\n",
       "      <td>0.079026</td>\n",
       "      <td>0.001302</td>\n",
       "      <td>0.077696</td>\n",
       "      <td>0.000755</td>\n",
       "    </tr>\n",
       "    <tr>\n",
       "      <th>56</th>\n",
       "      <td>0.079026</td>\n",
       "      <td>0.001304</td>\n",
       "      <td>0.077686</td>\n",
       "      <td>0.000758</td>\n",
       "    </tr>\n",
       "    <tr>\n",
       "      <th>57</th>\n",
       "      <td>0.079027</td>\n",
       "      <td>0.001303</td>\n",
       "      <td>0.077681</td>\n",
       "      <td>0.000758</td>\n",
       "    </tr>\n",
       "    <tr>\n",
       "      <th>58</th>\n",
       "      <td>0.079026</td>\n",
       "      <td>0.001304</td>\n",
       "      <td>0.077676</td>\n",
       "      <td>0.000757</td>\n",
       "    </tr>\n",
       "    <tr>\n",
       "      <th>59</th>\n",
       "      <td>0.079023</td>\n",
       "      <td>0.001301</td>\n",
       "      <td>0.077670</td>\n",
       "      <td>0.000758</td>\n",
       "    </tr>\n",
       "    <tr>\n",
       "      <th>60</th>\n",
       "      <td>0.079022</td>\n",
       "      <td>0.001305</td>\n",
       "      <td>0.077662</td>\n",
       "      <td>0.000758</td>\n",
       "    </tr>\n",
       "    <tr>\n",
       "      <th>61</th>\n",
       "      <td>0.079024</td>\n",
       "      <td>0.001306</td>\n",
       "      <td>0.077656</td>\n",
       "      <td>0.000759</td>\n",
       "    </tr>\n",
       "    <tr>\n",
       "      <th>62</th>\n",
       "      <td>0.079025</td>\n",
       "      <td>0.001306</td>\n",
       "      <td>0.077650</td>\n",
       "      <td>0.000760</td>\n",
       "    </tr>\n",
       "    <tr>\n",
       "      <th>63</th>\n",
       "      <td>0.079024</td>\n",
       "      <td>0.001306</td>\n",
       "      <td>0.077644</td>\n",
       "      <td>0.000761</td>\n",
       "    </tr>\n",
       "    <tr>\n",
       "      <th>64</th>\n",
       "      <td>0.079023</td>\n",
       "      <td>0.001306</td>\n",
       "      <td>0.077637</td>\n",
       "      <td>0.000765</td>\n",
       "    </tr>\n",
       "    <tr>\n",
       "      <th>65</th>\n",
       "      <td>0.079021</td>\n",
       "      <td>0.001307</td>\n",
       "      <td>0.077632</td>\n",
       "      <td>0.000766</td>\n",
       "    </tr>\n",
       "    <tr>\n",
       "      <th>66</th>\n",
       "      <td>0.079021</td>\n",
       "      <td>0.001307</td>\n",
       "      <td>0.077626</td>\n",
       "      <td>0.000768</td>\n",
       "    </tr>\n",
       "    <tr>\n",
       "      <th>67</th>\n",
       "      <td>0.079021</td>\n",
       "      <td>0.001306</td>\n",
       "      <td>0.077621</td>\n",
       "      <td>0.000769</td>\n",
       "    </tr>\n",
       "    <tr>\n",
       "      <th>68</th>\n",
       "      <td>0.079021</td>\n",
       "      <td>0.001304</td>\n",
       "      <td>0.077613</td>\n",
       "      <td>0.000771</td>\n",
       "    </tr>\n",
       "    <tr>\n",
       "      <th>69</th>\n",
       "      <td>0.079022</td>\n",
       "      <td>0.001302</td>\n",
       "      <td>0.077608</td>\n",
       "      <td>0.000772</td>\n",
       "    </tr>\n",
       "    <tr>\n",
       "      <th>70</th>\n",
       "      <td>0.079020</td>\n",
       "      <td>0.001303</td>\n",
       "      <td>0.077603</td>\n",
       "      <td>0.000772</td>\n",
       "    </tr>\n",
       "    <tr>\n",
       "      <th>71</th>\n",
       "      <td>0.079021</td>\n",
       "      <td>0.001302</td>\n",
       "      <td>0.077596</td>\n",
       "      <td>0.000771</td>\n",
       "    </tr>\n",
       "    <tr>\n",
       "      <th>72</th>\n",
       "      <td>0.079021</td>\n",
       "      <td>0.001302</td>\n",
       "      <td>0.077590</td>\n",
       "      <td>0.000773</td>\n",
       "    </tr>\n",
       "    <tr>\n",
       "      <th>73</th>\n",
       "      <td>0.079020</td>\n",
       "      <td>0.001302</td>\n",
       "      <td>0.077585</td>\n",
       "      <td>0.000774</td>\n",
       "    </tr>\n",
       "  </tbody>\n",
       "</table>\n",
       "<p>74 rows × 4 columns</p>\n",
       "</div>"
      ],
      "text/plain": [
       "    test-logloss-mean  test-logloss-std  train-logloss-mean  train-logloss-std\n",
       "0            0.463628          0.000196            0.463565           0.000079\n",
       "1            0.337609          0.000360            0.337500           0.000094\n",
       "2            0.259260          0.000468            0.259105           0.000156\n",
       "3            0.206125          0.000535            0.205936           0.000156\n",
       "4            0.170133          0.000600            0.169902           0.000195\n",
       "5            0.144985          0.000685            0.144721           0.000145\n",
       "6            0.127480          0.000629            0.127167           0.000249\n",
       "7            0.115158          0.000663            0.114804           0.000319\n",
       "8            0.105840          0.000713            0.105445           0.000340\n",
       "9            0.099230          0.000711            0.098778           0.000403\n",
       "10           0.094012          0.001023            0.093467           0.000241\n",
       "11           0.090808          0.001059            0.090220           0.000282\n",
       "12           0.088583          0.001000            0.087962           0.000300\n",
       "13           0.086526          0.000837            0.085859           0.000378\n",
       "14           0.085009          0.001083            0.084291           0.000264\n",
       "15           0.083507          0.001332            0.082741           0.000349\n",
       "16           0.082752          0.001345            0.081948           0.000374\n",
       "17           0.081984          0.001283            0.081147           0.000393\n",
       "18           0.081327          0.000908            0.080463           0.000294\n",
       "19           0.080883          0.000919            0.079978           0.000330\n",
       "20           0.080580          0.000886            0.079661           0.000293\n",
       "21           0.080234          0.000879            0.079274           0.000264\n",
       "22           0.079945          0.000902            0.078962           0.000257\n",
       "23           0.079739          0.000957            0.078754           0.000315\n",
       "24           0.079584          0.001010            0.078568           0.000415\n",
       "25           0.079438          0.001074            0.078401           0.000494\n",
       "26           0.079268          0.001220            0.078198           0.000699\n",
       "27           0.079238          0.001247            0.078136           0.000744\n",
       "28           0.079160          0.001233            0.078045           0.000726\n",
       "29           0.079130          0.001255            0.077998           0.000707\n",
       "..                ...               ...                 ...                ...\n",
       "44           0.079034          0.001306            0.077797           0.000729\n",
       "45           0.079034          0.001307            0.077783           0.000734\n",
       "46           0.079032          0.001305            0.077771           0.000739\n",
       "47           0.079032          0.001303            0.077758           0.000740\n",
       "48           0.079031          0.001305            0.077749           0.000742\n",
       "49           0.079030          0.001305            0.077742           0.000744\n",
       "50           0.079027          0.001304            0.077732           0.000745\n",
       "51           0.079028          0.001304            0.077726           0.000747\n",
       "52           0.079028          0.001301            0.077719           0.000750\n",
       "53           0.079030          0.001300            0.077713           0.000753\n",
       "54           0.079029          0.001300            0.077704           0.000755\n",
       "55           0.079026          0.001302            0.077696           0.000755\n",
       "56           0.079026          0.001304            0.077686           0.000758\n",
       "57           0.079027          0.001303            0.077681           0.000758\n",
       "58           0.079026          0.001304            0.077676           0.000757\n",
       "59           0.079023          0.001301            0.077670           0.000758\n",
       "60           0.079022          0.001305            0.077662           0.000758\n",
       "61           0.079024          0.001306            0.077656           0.000759\n",
       "62           0.079025          0.001306            0.077650           0.000760\n",
       "63           0.079024          0.001306            0.077644           0.000761\n",
       "64           0.079023          0.001306            0.077637           0.000765\n",
       "65           0.079021          0.001307            0.077632           0.000766\n",
       "66           0.079021          0.001307            0.077626           0.000768\n",
       "67           0.079021          0.001306            0.077621           0.000769\n",
       "68           0.079021          0.001304            0.077613           0.000771\n",
       "69           0.079022          0.001302            0.077608           0.000772\n",
       "70           0.079020          0.001303            0.077603           0.000772\n",
       "71           0.079021          0.001302            0.077596           0.000771\n",
       "72           0.079021          0.001302            0.077590           0.000773\n",
       "73           0.079020          0.001302            0.077585           0.000774\n",
       "\n",
       "[74 rows x 4 columns]"
      ]
     },
     "execution_count": 81,
     "metadata": {},
     "output_type": "execute_result"
    }
   ],
   "source": [
    "cv_results = xgbt.cv(\n",
    "    params,\n",
    "    d_train,\n",
    "    num_boost_round=999,\n",
    "    seed=42,\n",
    "    nfold=5,\n",
    "    metrics={'logloss'},\n",
    "    early_stopping_rounds=10\n",
    ")\n",
    "\n",
    "cv_results"
   ]
  },
  {
   "cell_type": "code",
   "execution_count": 82,
   "metadata": {},
   "outputs": [
    {
     "data": {
      "text/plain": [
       "0.079019599999999995"
      ]
     },
     "execution_count": 82,
     "metadata": {},
     "output_type": "execute_result"
    }
   ],
   "source": [
    "cv_results['test-logloss-mean'].min()"
   ]
  },
  {
   "cell_type": "code",
   "execution_count": 83,
   "metadata": {},
   "outputs": [],
   "source": [
    "# You can try wider intervals with a larger step between\n",
    "# each value and then narrow it down. Here after several\n",
    "# iteration I found that the optimal value was in the\n",
    "# following ranges.\n",
    "gridsearch_params = [\n",
    "    (max_depth, min_child_weight)\n",
    "    for max_depth in range(9,12)\n",
    "    for min_child_weight in range(5,8)\n",
    "]"
   ]
  },
  {
   "cell_type": "code",
   "execution_count": 85,
   "metadata": {},
   "outputs": [
    {
     "name": "stdout",
     "output_type": "stream",
     "text": [
      "CV with max_depth=9, min_child_weight=5\n",
      "\tLogloss 0.0764872 for 39 rounds\n",
      "CV with max_depth=9, min_child_weight=6\n",
      "\tLogloss 0.0770062 for 63 rounds\n",
      "CV with max_depth=9, min_child_weight=7\n",
      "\tLogloss 0.0763042 for 74 rounds\n",
      "CV with max_depth=10, min_child_weight=5\n",
      "\tLogloss 0.0756488 for 34 rounds\n",
      "CV with max_depth=10, min_child_weight=6\n",
      "\tLogloss 0.0766092 for 59 rounds\n",
      "CV with max_depth=10, min_child_weight=7\n",
      "\tLogloss 0.07595099999999999 for 38 rounds\n",
      "CV with max_depth=11, min_child_weight=5\n",
      "\tLogloss 0.0764628 for 64 rounds\n",
      "CV with max_depth=11, min_child_weight=6\n",
      "\tLogloss 0.0760922 for 53 rounds\n",
      "CV with max_depth=11, min_child_weight=7\n",
      "\tLogloss 0.0756738 for 53 rounds\n"
     ]
    },
    {
     "ename": "NameError",
     "evalue": "name 'min_mae' is not defined",
     "output_type": "error",
     "traceback": [
      "\u001b[0;31m---------------------------------------------------------------------------\u001b[0m",
      "\u001b[0;31mNameError\u001b[0m                                 Traceback (most recent call last)",
      "\u001b[0;32m<ipython-input-85-63f82667075c>\u001b[0m in \u001b[0;36m<module>\u001b[0;34m()\u001b[0m\n\u001b[1;32m     30\u001b[0m         \u001b[0mbest_params\u001b[0m \u001b[0;34m=\u001b[0m \u001b[0;34m(\u001b[0m\u001b[0mmax_depth\u001b[0m\u001b[0;34m,\u001b[0m\u001b[0mmin_child_weight\u001b[0m\u001b[0;34m)\u001b[0m\u001b[0;34m\u001b[0m\u001b[0m\n\u001b[1;32m     31\u001b[0m \u001b[0;34m\u001b[0m\u001b[0m\n\u001b[0;32m---> 32\u001b[0;31m \u001b[0mprint\u001b[0m\u001b[0;34m(\u001b[0m\u001b[0;34m\"Best params: {}, {}, MAE: {}\"\u001b[0m\u001b[0;34m.\u001b[0m\u001b[0mformat\u001b[0m\u001b[0;34m(\u001b[0m\u001b[0mbest_params\u001b[0m\u001b[0;34m[\u001b[0m\u001b[0;36m0\u001b[0m\u001b[0;34m]\u001b[0m\u001b[0;34m,\u001b[0m \u001b[0mbest_params\u001b[0m\u001b[0;34m[\u001b[0m\u001b[0;36m1\u001b[0m\u001b[0;34m]\u001b[0m\u001b[0;34m,\u001b[0m \u001b[0mmin_mae\u001b[0m\u001b[0;34m)\u001b[0m\u001b[0;34m)\u001b[0m\u001b[0;34m\u001b[0m\u001b[0m\n\u001b[0m",
      "\u001b[0;31mNameError\u001b[0m: name 'min_mae' is not defined"
     ]
    }
   ],
   "source": [
    "# Define initial best params and Logloss\n",
    "min_logloss = float(\"Inf\")\n",
    "best_params = None\n",
    "for max_depth, min_child_weight in gridsearch_params:\n",
    "    print(\"CV with max_depth={}, min_child_weight={}\".format(\n",
    "                             max_depth,\n",
    "                             min_child_weight))\n",
    "\n",
    "    # Update our parameters\n",
    "    params['max_depth'] = max_depth\n",
    "    params['min_child_weight'] = min_child_weight\n",
    "\n",
    "    # Run CV\n",
    "    cv_results = xgbt.cv(\n",
    "        params,\n",
    "        d_train,\n",
    "        num_boost_round=999,\n",
    "        seed=42,\n",
    "        nfold=5,\n",
    "        metrics={'logloss'},\n",
    "        early_stopping_rounds=10\n",
    "    )\n",
    "\n",
    "    # Update best logloss\n",
    "    mean_logloss = cv_results['test-logloss-mean'].min()\n",
    "    boost_rounds = cv_results['test-logloss-mean'].argmin()\n",
    "    print(\"\\tLogloss {} for {} rounds\".format(mean_logloss, boost_rounds))\n",
    "    if mean_logloss < min_logloss:\n",
    "        min_logloss = mean_logloss\n",
    "        best_params = (max_depth,min_child_weight)\n",
    "\n",
    "print(\"Best params: {}, {}, Logloss: {}\".format(best_params[0], best_params[1], min_logloss))"
   ]
  },
  {
   "cell_type": "code",
   "execution_count": 86,
   "metadata": {},
   "outputs": [
    {
     "name": "stdout",
     "output_type": "stream",
     "text": [
      "Best params: 10, 5, Logloss: 0.0756488\n"
     ]
    }
   ],
   "source": [
    "print(\"Best params: {}, {}, Logloss: {}\".format(best_params[0], best_params[1], min_logloss))"
   ]
  },
  {
   "cell_type": "markdown",
   "metadata": {},
   "source": [
    "# Prediction test file"
   ]
  },
  {
   "cell_type": "code",
   "execution_count": 113,
   "metadata": {},
   "outputs": [],
   "source": [
    "df_merge_test['is_churn'] = xgb.predict_proba(df_merge_test[features])[:,1]"
   ]
  },
  {
   "cell_type": "code",
   "execution_count": 115,
   "metadata": {},
   "outputs": [],
   "source": [
    "df_merge_test[['msno','is_churn']].to_csv('submission.csv.gz', index=False, compression='gzip')"
   ]
  },
  {
   "cell_type": "code",
   "execution_count": null,
   "metadata": {},
   "outputs": [],
   "source": []
  }
 ],
 "metadata": {
  "kernelspec": {
   "display_name": "Python 3",
   "language": "python",
   "name": "python3"
  },
  "language_info": {
   "codemirror_mode": {
    "name": "ipython",
    "version": 3
   },
   "file_extension": ".py",
   "mimetype": "text/x-python",
   "name": "python",
   "nbconvert_exporter": "python",
   "pygments_lexer": "ipython3",
   "version": "3.6.2"
  }
 },
 "nbformat": 4,
 "nbformat_minor": 2
}
