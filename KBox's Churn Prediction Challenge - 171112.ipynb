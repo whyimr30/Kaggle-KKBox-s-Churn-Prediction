{
 "cells": [
  {
   "cell_type": "code",
   "execution_count": 1,
   "metadata": {},
   "outputs": [],
   "source": [
    "import numpy as np # linear algebra\n",
    "import pandas as pd # data processing, CSV file I/O (e.g. pd.read_csv)\n",
    "import matplotlib.pyplot as plt\n",
    "import seaborn as sns"
   ]
  },
  {
   "cell_type": "code",
   "execution_count": 2,
   "metadata": {},
   "outputs": [],
   "source": [
    "%matplotlib inline\n",
    "sns.set_style('darkgrid')"
   ]
  },
  {
   "cell_type": "code",
   "execution_count": 3,
   "metadata": {},
   "outputs": [],
   "source": [
    "chunk_size = 10000"
   ]
  },
  {
   "cell_type": "code",
   "execution_count": 4,
   "metadata": {},
   "outputs": [],
   "source": [
    "# Load v1 & v2 train data\n",
    "\n",
    "df_train_v1 = pd.read_csv('train.csv')\n",
    "df_train_v2 = pd.read_csv('train_v2.csv')\n",
    "df_train = pd.concat([df_train_v1, df_train_v2], ignore_index=True).reset_index(drop=True)\n",
    "df_train.drop_duplicates('msno',keep='last',inplace=True)"
   ]
  },
  {
   "cell_type": "code",
   "execution_count": 5,
   "metadata": {},
   "outputs": [],
   "source": [
    "# load test data\n",
    "\n",
    "df_test = pd.read_csv('sample_submission_v2.csv')"
   ]
  },
  {
   "cell_type": "code",
   "execution_count": 6,
   "metadata": {},
   "outputs": [],
   "source": [
    "# Load members with msno only in the train data\n",
    "\n",
    "df_members = pd.read_csv('members_v3.csv')"
   ]
  },
  {
   "cell_type": "code",
   "execution_count": 7,
   "metadata": {},
   "outputs": [],
   "source": [
    "chunks_trans = pd.read_csv('transactions.csv', iterator=True, chunksize=chunk_size)\n",
    "\n",
    "df_trans = pd.concat(list(chunks_trans), ignore_index=True)"
   ]
  },
  {
   "cell_type": "code",
   "execution_count": 8,
   "metadata": {},
   "outputs": [],
   "source": [
    "df_trans = pd.concat([df_trans, pd.read_csv('transactions_v2.csv')], ignore_index=True)"
   ]
  },
  {
   "cell_type": "code",
   "execution_count": 11,
   "metadata": {},
   "outputs": [],
   "source": [
    "df_logs = pd.DataFrame()\n",
    "\n",
    "chunks_logs = pd.read_csv('user_logs_v2.csv', iterator=True, chunksize=chunk_size)\n",
    "\n",
    "for chunk in chunks_logs:\n",
    "    chunk['num_25'] = chunk['num_25'].astype(np.int16)\n",
    "    chunk['num_50'] = chunk['num_50'].astype(np.int16)\n",
    "    chunk['num_75'] = chunk['num_75'].astype(np.int16)\n",
    "    chunk['num_985'] = chunk['num_985'].astype(np.int16)\n",
    "    chunk['num_100'] = chunk['num_100'].astype(np.int16)\n",
    "    chunk['total_secs'] = chunk['total_secs'].astype(np.float32)\n",
    "    chunk['date'] = chunk['date'].astype(np.int32)\n",
    "    \n",
    "    df_logs = pd.concat([df_logs,chunk], ignore_index=True)"
   ]
  },
  {
   "cell_type": "code",
   "execution_count": 12,
   "metadata": {},
   "outputs": [],
   "source": [
    "#f,ax=plt.subplots(1,2,figsize=(16,8))\n",
    "#sns.stripplot(x=\"is_churn\", y=\"city\", data=df_members_train, ax=ax[0])\n",
    "#sns.countplot(x='city', data=df_members_train, ax=ax[1])"
   ]
  },
  {
   "cell_type": "code",
   "execution_count": 13,
   "metadata": {},
   "outputs": [],
   "source": [
    "#f,ax=plt.subplots(1,2,figsize=(16,8))\n",
    "#sns.stripplot(x=\"is_churn\", y=\"registered_via\", data=df_members_train, ax=ax[0])\n",
    "#sns.countplot(x='registered_via', data=df_members_train, ax=ax[1])"
   ]
  },
  {
   "cell_type": "markdown",
   "metadata": {},
   "source": [
    "# Features engineering for members.csv"
   ]
  },
  {
   "cell_type": "code",
   "execution_count": 14,
   "metadata": {},
   "outputs": [],
   "source": [
    "# convert date to datetime\n",
    "\n",
    "df_members['registration_init_dtime'] = pd.to_datetime(df_members['registration_init_time'],format='%Y%m%d')"
   ]
  },
  {
   "cell_type": "code",
   "execution_count": 15,
   "metadata": {},
   "outputs": [],
   "source": [
    "# get #of days from April 1st to members registration time\n",
    "\n",
    "from datetime import date\n",
    "\n",
    "df_members['subscription_days'] = (date(2017,4,1) - df_members['registration_init_dtime']).dt.days"
   ]
  },
  {
   "cell_type": "code",
   "execution_count": 16,
   "metadata": {},
   "outputs": [],
   "source": [
    "# drop useless columns before merging with transactions\n",
    "\n",
    "df_members.drop(['gender','bd','registration_init_time','registration_init_dtime','city','registered_via'],axis=1,inplace=True)"
   ]
  },
  {
   "cell_type": "code",
   "execution_count": 17,
   "metadata": {},
   "outputs": [],
   "source": [
    "#sns.countplot(x='is_churn',data=df_members_train)"
   ]
  },
  {
   "cell_type": "code",
   "execution_count": 18,
   "metadata": {},
   "outputs": [],
   "source": [
    "#f,ax=plt.subplots(1,2,figsize=(16,8))\n",
    "#sns.distplot(df_members_train['subscription_days'], bins=20, ax=ax[0])\n",
    "#sns.countplot(x='subscription_days',data=df_members_train,hue='is_churn', palette='YlGnBu')"
   ]
  },
  {
   "cell_type": "code",
   "execution_count": 19,
   "metadata": {},
   "outputs": [],
   "source": [
    "#sns.pairplot(df_members_train[['city','registered_via','is_churn','subscription_days']], hue='is_churn')"
   ]
  },
  {
   "cell_type": "code",
   "execution_count": 20,
   "metadata": {},
   "outputs": [],
   "source": [
    "df_members_train = pd.merge(df_members, df_train, on='msno', how='inner')\n",
    "df_members_test = pd.merge(df_members, df_test, on='msno', how='right')"
   ]
  },
  {
   "cell_type": "markdown",
   "metadata": {},
   "source": [
    "# Features engineering for transactions.csv"
   ]
  },
  {
   "cell_type": "code",
   "execution_count": 21,
   "metadata": {},
   "outputs": [],
   "source": [
    "# merge df_trans and df_members_trains so only has to process msnos that are in train.csv\n",
    "\n",
    "df_merge = pd.merge(df_trans, pd.concat([df_members_train,df_members_test],ignore_index=True), on='msno', how='right')"
   ]
  },
  {
   "cell_type": "code",
   "execution_count": 22,
   "metadata": {},
   "outputs": [],
   "source": [
    "# remove unnecessary dfs to save memory\n",
    "\n",
    "del df_members\n",
    "del df_train_v1\n",
    "del df_train_v2\n",
    "del df_members_train\n",
    "del df_members_test\n",
    "del df_trans"
   ]
  },
  {
   "cell_type": "code",
   "execution_count": 23,
   "metadata": {},
   "outputs": [],
   "source": [
    "def df_lower_mem(df):\n",
    "    df['payment_method_id'] = df['payment_method_id'].astype(np.int8)\n",
    "    df['payment_plan_days'] = df['payment_plan_days'].astype(np.int16)\n",
    "    df['plan_list_price'] = df['plan_list_price'].astype(np.int16)\n",
    "    df['actual_amount_paid'] = df['actual_amount_paid'].astype(np.int16)\n",
    "    df['is_auto_renew'] = df['is_auto_renew'].astype(np.int8)\n",
    "    df['is_cancel'] = df['is_cancel'].astype(np.int8)\n",
    "    df['is_churn'] = df['is_churn'].astype(np.int8)\n",
    "    return df\n",
    "\n",
    "df_merge = df_lower_mem(df_merge)"
   ]
  },
  {
   "cell_type": "code",
   "execution_count": 24,
   "metadata": {},
   "outputs": [],
   "source": [
    "# drop rows that have no payments\n",
    "\n",
    "#df_merge = df_merge.drop(df_merge[df_merge['actual_amount_paid'] <= 0].index)"
   ]
  },
  {
   "cell_type": "code",
   "execution_count": 25,
   "metadata": {},
   "outputs": [],
   "source": [
    "# Re-calculate payment_plan_days if 0\n",
    "\n",
    "#df_merge['payment_plan_days'] = np.where(df_merge['payment_plan_days']==0,(df_merge['membership_expire_dtime']-df_merge['transaction_dtime']).dt.days,df_merge['payment_plan_days'])\n",
    "\n",
    "#df_merge.loc[df_merge['payment_plan_days']==0,'payment_plan_days'] = (df_merge['membership_expire_dtime']-df_merge['transaction_dtime']).dt.days"
   ]
  },
  {
   "cell_type": "code",
   "execution_count": 26,
   "metadata": {},
   "outputs": [],
   "source": [
    "#Set payment_plan_days back to 0 if re-calculation is -ive\n",
    "\n",
    "\n",
    "#df_merge.loc[df_merge['payment_plan_days']<0,'payment_plan_days'] = 0"
   ]
  },
  {
   "cell_type": "code",
   "execution_count": 27,
   "metadata": {},
   "outputs": [],
   "source": [
    "#a If plan_list_price is 0 assume it is actual_amount_paid\n",
    "\n",
    "#df_merge.loc[df_merge['plan_list_price']<=0,'plan_list_price'] = df_merge['actual_amount_paid']"
   ]
  },
  {
   "cell_type": "code",
   "execution_count": 28,
   "metadata": {},
   "outputs": [],
   "source": [
    "groupby_msno = df_merge.groupby(df_merge['msno'])"
   ]
  },
  {
   "cell_type": "code",
   "execution_count": 29,
   "metadata": {},
   "outputs": [],
   "source": [
    "# Count # of transactions\n",
    "\n",
    "df_merge['trans_count'] = (groupby_msno['payment_method_id'].transform('count')).astype(np.int16)"
   ]
  },
  {
   "cell_type": "code",
   "execution_count": 30,
   "metadata": {},
   "outputs": [],
   "source": [
    "# Total subscription days\n",
    "\n",
    "df_merge['total_pay_days'] = (groupby_msno['payment_plan_days'].transform('sum')).astype(np.int16)"
   ]
  },
  {
   "cell_type": "code",
   "execution_count": 31,
   "metadata": {},
   "outputs": [],
   "source": [
    "# Average payment in each transaction\n",
    "\n",
    "df_merge['avg_pay'] = (groupby_msno['actual_amount_paid'].transform('mean')).astype(np.int16)"
   ]
  },
  {
   "cell_type": "code",
   "execution_count": 32,
   "metadata": {},
   "outputs": [],
   "source": [
    "# Total subscription payment\n",
    "\n",
    "df_merge['total_payments'] = (groupby_msno['actual_amount_paid'].transform('sum')).astype(np.int16)"
   ]
  },
  {
   "cell_type": "code",
   "execution_count": 33,
   "metadata": {},
   "outputs": [],
   "source": [
    "# Assume is_cancel = 1 with actual payment > 0 is a plan change; count the total number of plan changes\n",
    "\n",
    "#df_merge['count_plan_change'] = groupby_msno['is_cancel'].transform(lambda x: (x==1).sum())"
   ]
  },
  {
   "cell_type": "code",
   "execution_count": 34,
   "metadata": {},
   "outputs": [],
   "source": [
    "# Count # of auto_renew\n",
    "\n",
    "#df_merge['count_auto_renew'] = groupby_msno['is_auto_renew'].transform(lambda x: (x==1).sum())"
   ]
  },
  {
   "cell_type": "code",
   "execution_count": 35,
   "metadata": {},
   "outputs": [],
   "source": [
    "# Average list Price\n",
    "\n",
    "df_merge['avg_list_price'] = (groupby_msno['plan_list_price'].transform('mean')).astype(np.int16)"
   ]
  },
  {
   "cell_type": "code",
   "execution_count": 36,
   "metadata": {},
   "outputs": [],
   "source": [
    "# Keep only the record with the most recent transaction date \n",
    "\n",
    "df_merge = df_merge.sort_values(by=['transaction_date'], ascending=False).reset_index(drop=True)\n",
    "df_merge.drop_duplicates('msno',keep='first',inplace=True)"
   ]
  },
  {
   "cell_type": "code",
   "execution_count": 37,
   "metadata": {},
   "outputs": [],
   "source": [
    "df_merge['transaction_days'] = pd.to_datetime(df_merge['transaction_date'],format='%Y%m%d')\n",
    "df_merge['membership_expire_days'] = pd.to_datetime(df_merge['membership_expire_date'],format='%Y%m%d')"
   ]
  },
  {
   "cell_type": "code",
   "execution_count": 38,
   "metadata": {},
   "outputs": [],
   "source": [
    "# Calculate last transaction is how many days ago from April\n",
    "\n",
    "df_merge['last_trans_days'] = ((date(2017,4,1) - df_merge['transaction_days']).dt.days).astype(np.int16)"
   ]
  },
  {
   "cell_type": "code",
   "execution_count": 39,
   "metadata": {},
   "outputs": [],
   "source": [
    "df_merge['membership_expiry_days_fr_April'] = ((date(2017,4,1) - df_merge['membership_expire_days']).dt.days).astype(np.int16)"
   ]
  },
  {
   "cell_type": "code",
   "execution_count": 40,
   "metadata": {
    "scrolled": true
   },
   "outputs": [],
   "source": [
    "df_merge.drop(['transaction_date','membership_expire_date','transaction_days','membership_expire_days'],axis=1,inplace=True)"
   ]
  },
  {
   "cell_type": "code",
   "execution_count": 41,
   "metadata": {},
   "outputs": [],
   "source": [
    "df_merge_train = pd.merge(df_merge.drop('is_churn',axis=1), df_train, on='msno', how='inner')\n",
    "df_merge_test = pd.merge(df_merge.drop('is_churn',axis=1), df_test, on='msno', how='right')"
   ]
  },
  {
   "cell_type": "code",
   "execution_count": 42,
   "metadata": {},
   "outputs": [],
   "source": [
    "df_merge_test.drop('is_churn',inplace=True,axis=1)"
   ]
  },
  {
   "cell_type": "markdown",
   "metadata": {},
   "source": [
    "# Features engineering for user_log.csv"
   ]
  },
  {
   "cell_type": "code",
   "execution_count": 43,
   "metadata": {},
   "outputs": [],
   "source": [
    "# merge df_trans and df_members_trains so only has to process msnos that are in user_logs.csv\n",
    "\n",
    "df_merge_logs = pd.merge(df_logs, pd.concat([df_train,df_test],ignore_index=True), on='msno', how='right')"
   ]
  },
  {
   "cell_type": "code",
   "execution_count": 44,
   "metadata": {},
   "outputs": [],
   "source": [
    "df_merge_logs.fillna(value=0, inplace=True)"
   ]
  },
  {
   "cell_type": "code",
   "execution_count": 45,
   "metadata": {},
   "outputs": [],
   "source": [
    "def df_logs_lower_mem(df):\n",
    "    df['num_25'] = df['num_25'].astype(np.int16)\n",
    "    df['num_50'] = df['num_50'].astype(np.int16)\n",
    "    df['num_75'] = df['num_75'].astype(np.int16)\n",
    "    df['num_985'] = df['num_985'].astype(np.int16)\n",
    "    df['num_100'] = df['num_100'].astype(np.int16)\n",
    "    df['total_secs'] = df['total_secs'].astype(np.float32)\n",
    "    df['date'] = df['date'].astype(np.int32)\n",
    "    df['num_unq'] = df['num_unq'].astype(np.int16)\n",
    "    df.drop('is_churn',axis=1,inplace=True)\n",
    "    return df\n",
    "\n",
    "df_merge_logs = df_logs_lower_mem(df_merge_logs)\n",
    "\n",
    "del df_logs"
   ]
  },
  {
   "cell_type": "code",
   "execution_count": 46,
   "metadata": {},
   "outputs": [],
   "source": [
    "df_merge_logs.drop_duplicates(['msno','date'],inplace=True)"
   ]
  },
  {
   "cell_type": "code",
   "execution_count": 47,
   "metadata": {},
   "outputs": [],
   "source": [
    "logs_groupby_msno = df_merge_logs.groupby(df_merge_logs['msno'])"
   ]
  },
  {
   "cell_type": "code",
   "execution_count": 48,
   "metadata": {},
   "outputs": [],
   "source": [
    "# Count # of play days\n",
    "\n",
    "df_merge_logs['play_days'] = (logs_groupby_msno['date'].transform('count')).astype(np.int8)"
   ]
  },
  {
   "cell_type": "code",
   "execution_count": 49,
   "metadata": {},
   "outputs": [],
   "source": [
    "df_merge_logs.loc[df_merge_logs['date']==0,'play_days'] = 255"
   ]
  },
  {
   "cell_type": "code",
   "execution_count": 50,
   "metadata": {},
   "outputs": [],
   "source": [
    "# Count # of play days\n",
    "\n",
    "#df_merge_logs['avg_25'] = (logs_groupby_msno['num_25'].transform('mean')).astype(np.int16)\n",
    "#df_merge_logs['avg_50'] = (logs_groupby_msno['num_50'].transform('mean')).astype(np.int16)\n",
    "#df_merge_logs['avg_75'] = (logs_groupby_msno['num_75'].transform('mean')).astype(np.int16)\n",
    "#df_merge_logs['avg_985'] = (logs_groupby_msno['num_985'].transform('mean')).astype(np.int16)\n",
    "#df_merge_logs['avg_100'] = (logs_groupby_msno['num_100'].transform('mean')).astype(np.int16)\n",
    "#df_merge_logs['avg_unq'] = (logs_groupby_msno['num_unq'].transform('mean')).astype(np.int16)"
   ]
  },
  {
   "cell_type": "code",
   "execution_count": 51,
   "metadata": {},
   "outputs": [],
   "source": [
    "df_merge_logs['total_month_secs'] = (logs_groupby_msno['total_secs'].transform('sum')).astype(np.float32)"
   ]
  },
  {
   "cell_type": "code",
   "execution_count": 52,
   "metadata": {},
   "outputs": [],
   "source": [
    "# Keep only the record with the most recent transaction date \n",
    "\n",
    "df_merge_logs = df_merge_logs.sort_values(by=['date'], ascending=False).reset_index(drop=True)\n",
    "df_merge_logs.drop_duplicates('msno',keep='first',inplace=True)"
   ]
  },
  {
   "cell_type": "code",
   "execution_count": 53,
   "metadata": {},
   "outputs": [],
   "source": [
    "df_merge_logs.loc[df_merge_logs['date']!=0,'dtime'] = pd.to_datetime(df_merge_logs[df_merge_logs['date']!=0]['date'],format='%Y%m%d')"
   ]
  },
  {
   "cell_type": "code",
   "execution_count": 54,
   "metadata": {},
   "outputs": [],
   "source": [
    "df_merge_logs.loc[df_merge_logs['date']!=0,'last_play_days'] = ((date(2017,4,1) - df_merge_logs[df_merge_logs['date']!=0]['dtime']).dt.days).astype(np.int8)"
   ]
  },
  {
   "cell_type": "code",
   "execution_count": 55,
   "metadata": {},
   "outputs": [],
   "source": [
    "df_merge_logs.drop(['date', 'num_25', 'num_50', 'num_75', 'num_985', 'num_100','num_unq', 'total_secs','dtime'],axis=1,inplace=True)"
   ]
  },
  {
   "cell_type": "code",
   "execution_count": 56,
   "metadata": {},
   "outputs": [],
   "source": [
    "df_merge_train = pd.merge(df_merge_train, df_merge_logs, on='msno', how='inner')\n",
    "df_merge_test = pd.merge(df_merge_test, df_merge_logs, on='msno', how='left')"
   ]
  },
  {
   "cell_type": "markdown",
   "metadata": {},
   "source": [
    "# Training the models"
   ]
  },
  {
   "cell_type": "code",
   "execution_count": 57,
   "metadata": {},
   "outputs": [],
   "source": [
    "from sklearn.model_selection import train_test_split"
   ]
  },
  {
   "cell_type": "code",
   "execution_count": 59,
   "metadata": {},
   "outputs": [],
   "source": [
    "features = ['payment_method_id',\n",
    "            'plan_list_price',\n",
    "            'subscription_days',\n",
    "            'trans_count',\n",
    "            'total_pay_days',\n",
    "            'avg_pay',\n",
    "            'total_payments',\n",
    "            'avg_list_price',\n",
    "            'last_trans_days',\n",
    "            'membership_expiry_days_fr_April',\n",
    "            'play_days',\n",
    "            'total_month_secs', \n",
    "            'last_play_days']\n",
    "\n",
    "X = df_merge_train[features]\n",
    "y = df_merge_train['is_churn']"
   ]
  },
  {
   "cell_type": "code",
   "execution_count": 60,
   "metadata": {},
   "outputs": [],
   "source": [
    "X_train, X_test, y_train, y_test = train_test_split(X, y, test_size=0.30, random_state=101)"
   ]
  },
  {
   "cell_type": "markdown",
   "metadata": {},
   "source": [
    "# Train with XGBoost"
   ]
  },
  {
   "cell_type": "code",
   "execution_count": 74,
   "metadata": {},
   "outputs": [],
   "source": [
    "import xgboost as xgbt"
   ]
  },
  {
   "cell_type": "code",
   "execution_count": 75,
   "metadata": {},
   "outputs": [],
   "source": [
    "d_train = xgbt.DMatrix(X_train, label=y_train)\n",
    "d_test = xgbt.DMatrix(X_test, label=y_test)"
   ]
  },
  {
   "cell_type": "code",
   "execution_count": 87,
   "metadata": {},
   "outputs": [],
   "source": [
    "params = {\n",
    "    # Parameters that we are going to tune.\n",
    "    'max_depth':10,\n",
    "    'min_child_weight': 5,\n",
    "    'eta':.1,\n",
    "    'subsample': 1,\n",
    "    'colsample_bytree': 0.8,\n",
    "    # Other parameters\n",
    "    'objective':'binary:logistic',\n",
    "    'eval_metric': \"logloss\"\n",
    "}"
   ]
  },
  {
   "cell_type": "code",
   "execution_count": 88,
   "metadata": {},
   "outputs": [
    {
     "name": "stdout",
     "output_type": "stream",
     "text": [
      "[0]\tis_churn-logloss:0.60831\n",
      "Will train until is_churn-logloss hasn't improved in 10 rounds.\n",
      "[1]\tis_churn-logloss:0.53763\n",
      "[2]\tis_churn-logloss:0.481994\n",
      "[3]\tis_churn-logloss:0.434935\n",
      "[4]\tis_churn-logloss:0.391811\n",
      "[5]\tis_churn-logloss:0.3574\n",
      "[6]\tis_churn-logloss:0.32713\n",
      "[7]\tis_churn-logloss:0.297765\n",
      "[8]\tis_churn-logloss:0.272225\n",
      "[9]\tis_churn-logloss:0.252091\n",
      "[10]\tis_churn-logloss:0.232192\n",
      "[11]\tis_churn-logloss:0.214694\n",
      "[12]\tis_churn-logloss:0.199284\n",
      "[13]\tis_churn-logloss:0.185662\n",
      "[14]\tis_churn-logloss:0.173798\n",
      "[15]\tis_churn-logloss:0.163014\n",
      "[16]\tis_churn-logloss:0.153522\n",
      "[17]\tis_churn-logloss:0.145938\n",
      "[18]\tis_churn-logloss:0.138459\n",
      "[19]\tis_churn-logloss:0.131692\n",
      "[20]\tis_churn-logloss:0.125559\n",
      "[21]\tis_churn-logloss:0.120229\n",
      "[22]\tis_churn-logloss:0.115177\n",
      "[23]\tis_churn-logloss:0.111216\n",
      "[24]\tis_churn-logloss:0.107155\n",
      "[25]\tis_churn-logloss:0.103729\n",
      "[26]\tis_churn-logloss:0.100912\n",
      "[27]\tis_churn-logloss:0.097889\n",
      "[28]\tis_churn-logloss:0.095167\n",
      "[29]\tis_churn-logloss:0.09325\n",
      "[30]\tis_churn-logloss:0.091051\n",
      "[31]\tis_churn-logloss:0.089007\n",
      "[32]\tis_churn-logloss:0.087255\n",
      "[33]\tis_churn-logloss:0.085858\n",
      "[34]\tis_churn-logloss:0.084404\n",
      "[35]\tis_churn-logloss:0.083044\n",
      "[36]\tis_churn-logloss:0.081839\n",
      "[37]\tis_churn-logloss:0.08074\n",
      "[38]\tis_churn-logloss:0.080042\n",
      "[39]\tis_churn-logloss:0.07932\n",
      "[40]\tis_churn-logloss:0.078445\n",
      "[41]\tis_churn-logloss:0.077583\n",
      "[42]\tis_churn-logloss:0.076921\n",
      "[43]\tis_churn-logloss:0.076355\n",
      "[44]\tis_churn-logloss:0.075682\n",
      "[45]\tis_churn-logloss:0.075226\n",
      "[46]\tis_churn-logloss:0.074712\n",
      "[47]\tis_churn-logloss:0.074425\n",
      "[48]\tis_churn-logloss:0.074106\n",
      "[49]\tis_churn-logloss:0.073803\n",
      "[50]\tis_churn-logloss:0.073549\n",
      "[51]\tis_churn-logloss:0.072983\n",
      "[52]\tis_churn-logloss:0.072679\n",
      "[53]\tis_churn-logloss:0.072508\n",
      "[54]\tis_churn-logloss:0.072166\n",
      "[55]\tis_churn-logloss:0.071987\n",
      "[56]\tis_churn-logloss:0.071458\n",
      "[57]\tis_churn-logloss:0.07132\n",
      "[58]\tis_churn-logloss:0.07122\n",
      "[59]\tis_churn-logloss:0.070951\n",
      "[60]\tis_churn-logloss:0.070823\n",
      "[61]\tis_churn-logloss:0.070125\n",
      "[62]\tis_churn-logloss:0.069608\n",
      "[63]\tis_churn-logloss:0.069188\n",
      "[64]\tis_churn-logloss:0.068997\n",
      "[65]\tis_churn-logloss:0.068781\n",
      "[66]\tis_churn-logloss:0.068596\n",
      "[67]\tis_churn-logloss:0.068417\n",
      "[68]\tis_churn-logloss:0.068374\n",
      "[69]\tis_churn-logloss:0.06814\n",
      "[70]\tis_churn-logloss:0.068034\n",
      "[71]\tis_churn-logloss:0.067608\n",
      "[72]\tis_churn-logloss:0.067569\n",
      "[73]\tis_churn-logloss:0.067521\n",
      "[74]\tis_churn-logloss:0.067455\n",
      "[75]\tis_churn-logloss:0.067409\n",
      "[76]\tis_churn-logloss:0.067371\n",
      "[77]\tis_churn-logloss:0.067113\n",
      "[78]\tis_churn-logloss:0.066868\n",
      "[79]\tis_churn-logloss:0.066802\n",
      "[80]\tis_churn-logloss:0.066653\n",
      "[81]\tis_churn-logloss:0.066542\n",
      "[82]\tis_churn-logloss:0.066312\n",
      "[83]\tis_churn-logloss:0.066042\n",
      "[84]\tis_churn-logloss:0.066016\n",
      "[85]\tis_churn-logloss:0.065979\n",
      "[86]\tis_churn-logloss:0.065961\n",
      "[87]\tis_churn-logloss:0.065958\n",
      "[88]\tis_churn-logloss:0.065923\n",
      "[89]\tis_churn-logloss:0.065588\n",
      "[90]\tis_churn-logloss:0.06558\n",
      "[91]\tis_churn-logloss:0.065566\n",
      "[92]\tis_churn-logloss:0.065546\n",
      "[93]\tis_churn-logloss:0.065548\n",
      "[94]\tis_churn-logloss:0.065311\n",
      "[95]\tis_churn-logloss:0.064966\n",
      "[96]\tis_churn-logloss:0.064966\n",
      "[97]\tis_churn-logloss:0.064952\n",
      "[98]\tis_churn-logloss:0.064928\n",
      "[99]\tis_churn-logloss:0.064687\n",
      "[100]\tis_churn-logloss:0.064688\n",
      "[101]\tis_churn-logloss:0.06467\n",
      "[102]\tis_churn-logloss:0.064668\n",
      "[103]\tis_churn-logloss:0.064679\n",
      "[104]\tis_churn-logloss:0.064677\n",
      "[105]\tis_churn-logloss:0.064654\n",
      "[106]\tis_churn-logloss:0.064656\n",
      "[107]\tis_churn-logloss:0.064505\n",
      "[108]\tis_churn-logloss:0.064505\n",
      "[109]\tis_churn-logloss:0.064504\n",
      "[110]\tis_churn-logloss:0.064503\n",
      "[111]\tis_churn-logloss:0.064506\n",
      "[112]\tis_churn-logloss:0.064438\n",
      "[113]\tis_churn-logloss:0.06444\n",
      "[114]\tis_churn-logloss:0.064436\n",
      "[115]\tis_churn-logloss:0.064433\n",
      "[116]\tis_churn-logloss:0.064254\n",
      "[117]\tis_churn-logloss:0.064219\n",
      "[118]\tis_churn-logloss:0.064156\n",
      "[119]\tis_churn-logloss:0.064107\n",
      "[120]\tis_churn-logloss:0.064108\n",
      "[121]\tis_churn-logloss:0.06396\n",
      "[122]\tis_churn-logloss:0.063843\n",
      "[123]\tis_churn-logloss:0.063845\n",
      "[124]\tis_churn-logloss:0.063839\n",
      "[125]\tis_churn-logloss:0.063838\n",
      "[126]\tis_churn-logloss:0.063722\n",
      "[127]\tis_churn-logloss:0.063705\n",
      "[128]\tis_churn-logloss:0.063496\n",
      "[129]\tis_churn-logloss:0.063496\n",
      "[130]\tis_churn-logloss:0.063481\n",
      "[131]\tis_churn-logloss:0.063424\n",
      "[132]\tis_churn-logloss:0.063416\n",
      "[133]\tis_churn-logloss:0.063416\n",
      "[134]\tis_churn-logloss:0.06341\n",
      "[135]\tis_churn-logloss:0.063411\n",
      "[136]\tis_churn-logloss:0.063299\n",
      "[137]\tis_churn-logloss:0.063291\n",
      "[138]\tis_churn-logloss:0.06312\n",
      "[139]\tis_churn-logloss:0.063122\n",
      "[140]\tis_churn-logloss:0.063043\n",
      "[141]\tis_churn-logloss:0.062989\n",
      "[142]\tis_churn-logloss:0.06299\n",
      "[143]\tis_churn-logloss:0.062985\n",
      "[144]\tis_churn-logloss:0.062986\n",
      "[145]\tis_churn-logloss:0.062919\n",
      "[146]\tis_churn-logloss:0.062883\n",
      "[147]\tis_churn-logloss:0.062883\n",
      "[148]\tis_churn-logloss:0.062787\n",
      "[149]\tis_churn-logloss:0.062791\n",
      "[150]\tis_churn-logloss:0.062772\n",
      "[151]\tis_churn-logloss:0.062714\n",
      "[152]\tis_churn-logloss:0.062713\n",
      "[153]\tis_churn-logloss:0.062727\n",
      "[154]\tis_churn-logloss:0.062726\n",
      "[155]\tis_churn-logloss:0.062729\n",
      "[156]\tis_churn-logloss:0.062723\n",
      "[157]\tis_churn-logloss:0.062725\n",
      "[158]\tis_churn-logloss:0.062723\n",
      "[159]\tis_churn-logloss:0.062724\n",
      "[160]\tis_churn-logloss:0.062675\n",
      "[161]\tis_churn-logloss:0.062668\n",
      "[162]\tis_churn-logloss:0.06266\n",
      "[163]\tis_churn-logloss:0.062657\n",
      "[164]\tis_churn-logloss:0.062655\n",
      "[165]\tis_churn-logloss:0.062642\n",
      "[166]\tis_churn-logloss:0.062643\n",
      "[167]\tis_churn-logloss:0.062641\n",
      "[168]\tis_churn-logloss:0.062636\n",
      "[169]\tis_churn-logloss:0.062635\n",
      "[170]\tis_churn-logloss:0.062526\n",
      "[171]\tis_churn-logloss:0.062493\n",
      "[172]\tis_churn-logloss:0.062494\n",
      "[173]\tis_churn-logloss:0.062484\n",
      "[174]\tis_churn-logloss:0.062486\n",
      "[175]\tis_churn-logloss:0.062487\n",
      "[176]\tis_churn-logloss:0.062486\n",
      "[177]\tis_churn-logloss:0.062487\n",
      "[178]\tis_churn-logloss:0.062474\n",
      "[179]\tis_churn-logloss:0.062482\n",
      "[180]\tis_churn-logloss:0.062476\n",
      "[181]\tis_churn-logloss:0.062478\n",
      "[182]\tis_churn-logloss:0.062469\n",
      "[183]\tis_churn-logloss:0.062444\n",
      "[184]\tis_churn-logloss:0.062439\n",
      "[185]\tis_churn-logloss:0.062252\n",
      "[186]\tis_churn-logloss:0.06225\n",
      "[187]\tis_churn-logloss:0.062259\n",
      "[188]\tis_churn-logloss:0.062225\n",
      "[189]\tis_churn-logloss:0.062234\n",
      "[190]\tis_churn-logloss:0.062226\n",
      "[191]\tis_churn-logloss:0.06223\n",
      "[192]\tis_churn-logloss:0.062229\n",
      "[193]\tis_churn-logloss:0.062229\n",
      "[194]\tis_churn-logloss:0.062235\n",
      "[195]\tis_churn-logloss:0.062229\n",
      "[196]\tis_churn-logloss:0.062233\n",
      "[197]\tis_churn-logloss:0.062235\n",
      "[198]\tis_churn-logloss:0.062239\n",
      "Stopping. Best iteration:\n",
      "[188]\tis_churn-logloss:0.062225\n",
      "\n"
     ]
    }
   ],
   "source": [
    "model = xgbt.train(\n",
    "    params,\n",
    "    d_train,\n",
    "    num_boost_round=999,\n",
    "    evals=[(d_test,'is_churn')],\n",
    "    early_stopping_rounds=10\n",
    ")"
   ]
  },
  {
   "cell_type": "markdown",
   "metadata": {},
   "source": [
    "# Prediction and Evaluations"
   ]
  },
  {
   "cell_type": "code",
   "execution_count": 90,
   "metadata": {},
   "outputs": [],
   "source": [
    "d_sub = xgbt.DMatrix(df_merge_test[features])"
   ]
  },
  {
   "cell_type": "code",
   "execution_count": 97,
   "metadata": {},
   "outputs": [],
   "source": [
    "pred_sub = model.predict(d_sub)"
   ]
  },
  {
   "cell_type": "code",
   "execution_count": 93,
   "metadata": {},
   "outputs": [],
   "source": [
    "from sklearn.metrics import classification_report,confusion_matrix,log_loss"
   ]
  },
  {
   "cell_type": "code",
   "execution_count": 94,
   "metadata": {},
   "outputs": [
    {
     "data": {
      "text/plain": [
       "array([  6.97480136e-05,   8.02756404e-05,   1.78939561e-04, ...,\n",
       "         9.72325265e-01,   9.49071884e-01,   9.58846450e-01], dtype=float32)"
      ]
     },
     "execution_count": 94,
     "metadata": {},
     "output_type": "execute_result"
    }
   ],
   "source": [
    "pred"
   ]
  },
  {
   "cell_type": "code",
   "execution_count": 66,
   "metadata": {},
   "outputs": [
    {
     "name": "stdout",
     "output_type": "stream",
     "text": [
      "[[280759   2641]\n",
      " [  5938  31463]]\n"
     ]
    }
   ],
   "source": [
    "print(confusion_matrix(y_test,predictions))"
   ]
  },
  {
   "cell_type": "code",
   "execution_count": 67,
   "metadata": {},
   "outputs": [
    {
     "name": "stdout",
     "output_type": "stream",
     "text": [
      "             precision    recall  f1-score   support\n",
      "\n",
      "          0       0.98      0.99      0.98    283400\n",
      "          1       0.92      0.84      0.88     37401\n",
      "\n",
      "avg / total       0.97      0.97      0.97    320801\n",
      "\n"
     ]
    }
   ],
   "source": [
    "print(classification_report(y_test,predictions))"
   ]
  },
  {
   "cell_type": "code",
   "execution_count": 96,
   "metadata": {},
   "outputs": [
    {
     "name": "stdout",
     "output_type": "stream",
     "text": [
      "0.0622392432394\n"
     ]
    }
   ],
   "source": [
    "print(log_loss(y_test,pred))"
   ]
  },
  {
   "cell_type": "code",
   "execution_count": 91,
   "metadata": {},
   "outputs": [
    {
     "data": {
      "text/plain": [
       "<matplotlib.axes._subplots.AxesSubplot at 0x11fe9b8d0>"
      ]
     },
     "execution_count": 91,
     "metadata": {},
     "output_type": "execute_result"
    },
    {
     "data": {
      "image/png": "[encoded data removed]",
      "text/plain": [
       "<matplotlib.figure.Figure at 0x11efd39b0>"
      ]
     },
     "metadata": {},
     "output_type": "display_data"
    }
   ],
   "source": [
    "from xgboost import plot_importance\n",
    "\n",
    "plot_importance(model)"
   ]
  },
  {
   "cell_type": "markdown",
   "metadata": {},
   "source": [
    "# Prediction test file"
   ]
  },
  {
   "cell_type": "code",
   "execution_count": 98,
   "metadata": {},
   "outputs": [],
   "source": [
    "df_merge_test['is_churn'] = pred_sub"
   ]
  },
  {
   "cell_type": "code",
   "execution_count": 100,
   "metadata": {},
   "outputs": [],
   "source": [
    "df_merge_test[['msno','is_churn']].to_csv('submission.csv.gz', index=False, compression='gzip')"
   ]
  },
  {
   "cell_type": "code",
   "execution_count": 99,
   "metadata": {},
   "outputs": [
    {
     "data": {
      "text/html": [
       "<div>\n",
       "<style>\n",
       "    .dataframe thead tr:only-child th {\n",
       "        text-align: right;\n",
       "    }\n",
       "\n",
       "    .dataframe thead th {\n",
       "        text-align: left;\n",
       "    }\n",
       "\n",
       "    .dataframe tbody tr th {\n",
       "        vertical-align: top;\n",
       "    }\n",
       "</style>\n",
       "<table border=\"1\" class=\"dataframe\">\n",
       "  <thead>\n",
       "    <tr style=\"text-align: right;\">\n",
       "      <th></th>\n",
       "      <th>msno</th>\n",
       "      <th>is_churn</th>\n",
       "    </tr>\n",
       "  </thead>\n",
       "  <tbody>\n",
       "    <tr>\n",
       "      <th>0</th>\n",
       "      <td>qPSxhrsxPhhSySQ1FAPr8VkGod4grctf89zpvUJia1Y=</td>\n",
       "      <td>0.000070</td>\n",
       "    </tr>\n",
       "    <tr>\n",
       "      <th>1</th>\n",
       "      <td>DHGcKsvkK6r7jLCQ3yPoK4ST4I7VP77594CsbI3AMxk=</td>\n",
       "      <td>0.000080</td>\n",
       "    </tr>\n",
       "    <tr>\n",
       "      <th>2</th>\n",
       "      <td>gzl78fz7VVCXM5V55Zqt4nSoiAaitqKvATjJ/7E1bKg=</td>\n",
       "      <td>0.000179</td>\n",
       "    </tr>\n",
       "    <tr>\n",
       "      <th>3</th>\n",
       "      <td>VRf0Vd5HyHoowUi1ZCOGctFeMsuyqGOrLKQluMVl7mY=</td>\n",
       "      <td>0.000251</td>\n",
       "    </tr>\n",
       "    <tr>\n",
       "      <th>4</th>\n",
       "      <td>8gfoT8eIaujK15FQGIO5kCpcV1amFO6TVWppYUgrfhA=</td>\n",
       "      <td>0.000076</td>\n",
       "    </tr>\n",
       "    <tr>\n",
       "      <th>5</th>\n",
       "      <td>wLTMlDyVibwW6M7XqUBAIlbPUnElyIYQezA/UMURqCU=</td>\n",
       "      <td>0.002875</td>\n",
       "    </tr>\n",
       "    <tr>\n",
       "      <th>6</th>\n",
       "      <td>NwIdiZCXzzJtdOOMXjXUL8wSEw8Dh5JUB/s+SwT9TJc=</td>\n",
       "      <td>0.000640</td>\n",
       "    </tr>\n",
       "    <tr>\n",
       "      <th>7</th>\n",
       "      <td>P8KpROAxmCyO0Q0HS7TkI/2KfT5Dxhl6KzzAsZ/1yag=</td>\n",
       "      <td>0.000102</td>\n",
       "    </tr>\n",
       "    <tr>\n",
       "      <th>8</th>\n",
       "      <td>nLwadO1AYMdn377DAdRkkOxL2Sgk7MyhQW5knUJqtZc=</td>\n",
       "      <td>0.000129</td>\n",
       "    </tr>\n",
       "    <tr>\n",
       "      <th>9</th>\n",
       "      <td>Vphe6ihTbDu55i43niPPejzUXvlPquduAB6wdwmr6dE=</td>\n",
       "      <td>0.000073</td>\n",
       "    </tr>\n",
       "    <tr>\n",
       "      <th>10</th>\n",
       "      <td>h9Za8/RJXDHj2MtaKx9ikNHfIBp0w1hXFqEfMA8R+6c=</td>\n",
       "      <td>0.000099</td>\n",
       "    </tr>\n",
       "    <tr>\n",
       "      <th>11</th>\n",
       "      <td>3H7kCPhi+hpCXTlvFr7htGqHaWtv2Zj+IzdqnGQts74=</td>\n",
       "      <td>0.000093</td>\n",
       "    </tr>\n",
       "    <tr>\n",
       "      <th>12</th>\n",
       "      <td>6QvlRaIziQBywavxmM/7trpSFY2+VjZy4t3R/NNhnVI=</td>\n",
       "      <td>0.000080</td>\n",
       "    </tr>\n",
       "    <tr>\n",
       "      <th>13</th>\n",
       "      <td>S9AQwO8gmghipL9dhqE2IouvqpMa7zU0paF6Ecbaqzk=</td>\n",
       "      <td>0.000108</td>\n",
       "    </tr>\n",
       "    <tr>\n",
       "      <th>14</th>\n",
       "      <td>S43hBz6Ja87eyTPEETSXdo9GVw5Q+gLLGkaIky2cgHg=</td>\n",
       "      <td>0.000038</td>\n",
       "    </tr>\n",
       "    <tr>\n",
       "      <th>15</th>\n",
       "      <td>SgsYzmPz4F+5yuizwY19DBuB7bG2M8XO4w2HgeoiVao=</td>\n",
       "      <td>0.000344</td>\n",
       "    </tr>\n",
       "    <tr>\n",
       "      <th>16</th>\n",
       "      <td>r7uMlDl8SMX2/eb6/6SBvpVJJyIaWal960CjEMCaHwY=</td>\n",
       "      <td>0.000076</td>\n",
       "    </tr>\n",
       "    <tr>\n",
       "      <th>17</th>\n",
       "      <td>yv6SRY5UhgBC3xuotAbHMEinqTE4dK549mmGFb4kgMg=</td>\n",
       "      <td>0.000082</td>\n",
       "    </tr>\n",
       "    <tr>\n",
       "      <th>18</th>\n",
       "      <td>BbixFu69KFzvikp912yLUrZcrLh/rS1JacAqiuOOz58=</td>\n",
       "      <td>0.001574</td>\n",
       "    </tr>\n",
       "    <tr>\n",
       "      <th>19</th>\n",
       "      <td>yhTxfTYpBl9Zg83Xt0Tqe4wwCiUjmyP3xu/cBolYAnc=</td>\n",
       "      <td>0.000097</td>\n",
       "    </tr>\n",
       "    <tr>\n",
       "      <th>20</th>\n",
       "      <td>Ls0k759Zk4OeFSn7klx2n+tjzoeSrzVo7qe7J6GsZ+c=</td>\n",
       "      <td>0.000146</td>\n",
       "    </tr>\n",
       "    <tr>\n",
       "      <th>21</th>\n",
       "      <td>EAhHyGcHP1nTC8yLEYwv5FeAYQHnNoxVQ1zLLfo476M=</td>\n",
       "      <td>0.000151</td>\n",
       "    </tr>\n",
       "    <tr>\n",
       "      <th>22</th>\n",
       "      <td>pr6BJ1htkqpQs3DFiLraC4GcIqLaIb2I3FR7IYRvTA8=</td>\n",
       "      <td>0.000091</td>\n",
       "    </tr>\n",
       "    <tr>\n",
       "      <th>23</th>\n",
       "      <td>bfmlN2/23zHuVMQFhutlh5toKqlP0B8Bl0hqUY/QpA0=</td>\n",
       "      <td>0.000118</td>\n",
       "    </tr>\n",
       "    <tr>\n",
       "      <th>24</th>\n",
       "      <td>2RGiQICMdDfTq4NQGiAy++22xu7/wHoYsyZ62HvuTWM=</td>\n",
       "      <td>0.000158</td>\n",
       "    </tr>\n",
       "    <tr>\n",
       "      <th>25</th>\n",
       "      <td>hGl9YONKgxQXFePFe1Uc3/QuHGQ2XGNvO7V4j853gfQ=</td>\n",
       "      <td>0.000120</td>\n",
       "    </tr>\n",
       "    <tr>\n",
       "      <th>26</th>\n",
       "      <td>yPg5sytJjIxNhgDt8xnITGHJ1Qp5kHJsB+zlauUvBlI=</td>\n",
       "      <td>0.000169</td>\n",
       "    </tr>\n",
       "    <tr>\n",
       "      <th>27</th>\n",
       "      <td>FJ18bQnRKKSfsngTujMXxHkWFKcj0lkHpULhNWkxfxE=</td>\n",
       "      <td>0.000046</td>\n",
       "    </tr>\n",
       "    <tr>\n",
       "      <th>28</th>\n",
       "      <td>sL/F4cMXI8iS8IKShdZz0WryHw6mbUiGO0/sLmtZFCc=</td>\n",
       "      <td>0.000108</td>\n",
       "    </tr>\n",
       "    <tr>\n",
       "      <th>29</th>\n",
       "      <td>nyt+txIUDIp3/+vZFRVQffD2nJZo2/EXmHGqnu640N0=</td>\n",
       "      <td>0.000068</td>\n",
       "    </tr>\n",
       "    <tr>\n",
       "      <th>...</th>\n",
       "      <td>...</td>\n",
       "      <td>...</td>\n",
       "    </tr>\n",
       "    <tr>\n",
       "      <th>907441</th>\n",
       "      <td>p/89pNXxgp4v5hBKsUsT8w5sjx9/6P9gXUOKErxpUpg=</td>\n",
       "      <td>0.962232</td>\n",
       "    </tr>\n",
       "    <tr>\n",
       "      <th>907442</th>\n",
       "      <td>HuBPzeMIwJpXuWwLcCRvK5bXI8CDsxlRXcbOMX8SKJc=</td>\n",
       "      <td>0.911015</td>\n",
       "    </tr>\n",
       "    <tr>\n",
       "      <th>907443</th>\n",
       "      <td>UBR5lCgeLyGNF5m5w8E5GdgruEt5q/3VhDuhF/EHNt4=</td>\n",
       "      <td>0.968632</td>\n",
       "    </tr>\n",
       "    <tr>\n",
       "      <th>907444</th>\n",
       "      <td>W2M/5tU3xx33j9S9Gi76Ar9BTM91JPU+/9bLVztwCTU=</td>\n",
       "      <td>0.982430</td>\n",
       "    </tr>\n",
       "    <tr>\n",
       "      <th>907445</th>\n",
       "      <td>GY3Sx6dXfuOH0sTEe/KcueeGdFmtM6t/waTg8Fcukeo=</td>\n",
       "      <td>0.980072</td>\n",
       "    </tr>\n",
       "    <tr>\n",
       "      <th>907446</th>\n",
       "      <td>5WvV3fzm52bvTa69YKawmEOXYnmsqEyNJ/k1pLVVWU8=</td>\n",
       "      <td>0.975256</td>\n",
       "    </tr>\n",
       "    <tr>\n",
       "      <th>907447</th>\n",
       "      <td>N3MmJLk3zfb9jyRzbmRNnhdqusd8P2RTXztvDg5cPJ8=</td>\n",
       "      <td>0.968785</td>\n",
       "    </tr>\n",
       "    <tr>\n",
       "      <th>907448</th>\n",
       "      <td>wDBIT0wEdWHxr0AyjnBTlIkjAqBFRNnUOBta7NBmnWY=</td>\n",
       "      <td>0.889802</td>\n",
       "    </tr>\n",
       "    <tr>\n",
       "      <th>907449</th>\n",
       "      <td>eJf354UFCOH+YMqUfkf7SVu+uGcrwp0XVJvZh3peBYk=</td>\n",
       "      <td>0.979270</td>\n",
       "    </tr>\n",
       "    <tr>\n",
       "      <th>907450</th>\n",
       "      <td>RMyfxDav0nrqluLKEVq+4mcENvOjpJ572hOXoG5Gumk=</td>\n",
       "      <td>0.993548</td>\n",
       "    </tr>\n",
       "    <tr>\n",
       "      <th>907451</th>\n",
       "      <td>pF4VAkPRMI8UqBv23JfnIisn5Ktl0IUP5QCbBllWxug=</td>\n",
       "      <td>0.986277</td>\n",
       "    </tr>\n",
       "    <tr>\n",
       "      <th>907452</th>\n",
       "      <td>3u1ByV7fhnptUPaX76bzZyoAOIovnDln34E7uslwpNg=</td>\n",
       "      <td>0.999478</td>\n",
       "    </tr>\n",
       "    <tr>\n",
       "      <th>907453</th>\n",
       "      <td>S/pXjUn211WOodxicOYZ1UE65+Jx9Hgf3aDQBL8SyaU=</td>\n",
       "      <td>0.948279</td>\n",
       "    </tr>\n",
       "    <tr>\n",
       "      <th>907454</th>\n",
       "      <td>FYQ7lK8nc+27zsK4TZ+hjtOG8tSABi8OgC5pMwqjack=</td>\n",
       "      <td>0.980153</td>\n",
       "    </tr>\n",
       "    <tr>\n",
       "      <th>907455</th>\n",
       "      <td>S95pA+BZ2IGWjlZYnMl+knRmb9wJlk35S2SxM+XvO5U=</td>\n",
       "      <td>0.973914</td>\n",
       "    </tr>\n",
       "    <tr>\n",
       "      <th>907456</th>\n",
       "      <td>hRM29eONnmGl3d3kUHWSpU9O+VPyMjsJP9gjqYJwDko=</td>\n",
       "      <td>0.965673</td>\n",
       "    </tr>\n",
       "    <tr>\n",
       "      <th>907457</th>\n",
       "      <td>fhL6YsZ+BVP0TMTS621u3HyVx1Z8evwFphcuk3OFoN8=</td>\n",
       "      <td>0.992714</td>\n",
       "    </tr>\n",
       "    <tr>\n",
       "      <th>907458</th>\n",
       "      <td>lD3dzhYDYBT4gvmu6e0y40nPvr8yUjvYA06GzriRzj0=</td>\n",
       "      <td>0.996197</td>\n",
       "    </tr>\n",
       "    <tr>\n",
       "      <th>907459</th>\n",
       "      <td>x3ukO1PTJJX8UYwSm+YkuMr0XbPSDmCYUOZ8V3tQO9k=</td>\n",
       "      <td>0.996387</td>\n",
       "    </tr>\n",
       "    <tr>\n",
       "      <th>907460</th>\n",
       "      <td>ydmW5qkPMqw8T1FUyGnwuqhD8GpqHsBaou9Y8ONRq7w=</td>\n",
       "      <td>0.996026</td>\n",
       "    </tr>\n",
       "    <tr>\n",
       "      <th>907461</th>\n",
       "      <td>8bPUSTsX5dM6P3mtrE7vutVydTBlCPnk/zluOmdDyJ0=</td>\n",
       "      <td>0.983373</td>\n",
       "    </tr>\n",
       "    <tr>\n",
       "      <th>907462</th>\n",
       "      <td>AyOijXCe5ucGJQR0IRjZ5JlAOhnuJAh3eOjhsXAkmE4=</td>\n",
       "      <td>0.999698</td>\n",
       "    </tr>\n",
       "    <tr>\n",
       "      <th>907463</th>\n",
       "      <td>qpYOyBz6i3fuc/GgNOG5gWH9wRUvTL2ytSKWPLHsUIk=</td>\n",
       "      <td>0.976412</td>\n",
       "    </tr>\n",
       "    <tr>\n",
       "      <th>907464</th>\n",
       "      <td>vb6mgwu7vAq8u3YTDqSFii4v3GGXzmSNG+A/+jDfH80=</td>\n",
       "      <td>0.994059</td>\n",
       "    </tr>\n",
       "    <tr>\n",
       "      <th>907465</th>\n",
       "      <td>K1sNdqiOE4Ex/eymOlVwNx6ObScGPBlAnfiAkt+XXhA=</td>\n",
       "      <td>0.986822</td>\n",
       "    </tr>\n",
       "    <tr>\n",
       "      <th>907466</th>\n",
       "      <td>8eNSAJ2MuSWx/zF85dj8fHK+ifocRW/IA7zEnb9RbmA=</td>\n",
       "      <td>0.997277</td>\n",
       "    </tr>\n",
       "    <tr>\n",
       "      <th>907467</th>\n",
       "      <td>4lX5YwIBegyH/pcUxp40fgqeFQ84yH/KG54dRy/ctmE=</td>\n",
       "      <td>0.995041</td>\n",
       "    </tr>\n",
       "    <tr>\n",
       "      <th>907468</th>\n",
       "      <td>x0+1zsz0Ziu4YmMZHCA0yFtPZXwG+vgiE65TIpjWw4s=</td>\n",
       "      <td>0.972325</td>\n",
       "    </tr>\n",
       "    <tr>\n",
       "      <th>907469</th>\n",
       "      <td>sxhLcyV5nUh6leI1kal8MYkBDQD/3iLTNwmBC8EDZ/k=</td>\n",
       "      <td>0.949072</td>\n",
       "    </tr>\n",
       "    <tr>\n",
       "      <th>907470</th>\n",
       "      <td>H7PXq4UBN/p/kibJn0HMJiD0FcWzDD6uRqf8ah0GW6A=</td>\n",
       "      <td>0.958846</td>\n",
       "    </tr>\n",
       "  </tbody>\n",
       "</table>\n",
       "<p>907471 rows × 2 columns</p>\n",
       "</div>"
      ],
      "text/plain": [
       "                                                msno  is_churn\n",
       "0       qPSxhrsxPhhSySQ1FAPr8VkGod4grctf89zpvUJia1Y=  0.000070\n",
       "1       DHGcKsvkK6r7jLCQ3yPoK4ST4I7VP77594CsbI3AMxk=  0.000080\n",
       "2       gzl78fz7VVCXM5V55Zqt4nSoiAaitqKvATjJ/7E1bKg=  0.000179\n",
       "3       VRf0Vd5HyHoowUi1ZCOGctFeMsuyqGOrLKQluMVl7mY=  0.000251\n",
       "4       8gfoT8eIaujK15FQGIO5kCpcV1amFO6TVWppYUgrfhA=  0.000076\n",
       "5       wLTMlDyVibwW6M7XqUBAIlbPUnElyIYQezA/UMURqCU=  0.002875\n",
       "6       NwIdiZCXzzJtdOOMXjXUL8wSEw8Dh5JUB/s+SwT9TJc=  0.000640\n",
       "7       P8KpROAxmCyO0Q0HS7TkI/2KfT5Dxhl6KzzAsZ/1yag=  0.000102\n",
       "8       nLwadO1AYMdn377DAdRkkOxL2Sgk7MyhQW5knUJqtZc=  0.000129\n",
       "9       Vphe6ihTbDu55i43niPPejzUXvlPquduAB6wdwmr6dE=  0.000073\n",
       "10      h9Za8/RJXDHj2MtaKx9ikNHfIBp0w1hXFqEfMA8R+6c=  0.000099\n",
       "11      3H7kCPhi+hpCXTlvFr7htGqHaWtv2Zj+IzdqnGQts74=  0.000093\n",
       "12      6QvlRaIziQBywavxmM/7trpSFY2+VjZy4t3R/NNhnVI=  0.000080\n",
       "13      S9AQwO8gmghipL9dhqE2IouvqpMa7zU0paF6Ecbaqzk=  0.000108\n",
       "14      S43hBz6Ja87eyTPEETSXdo9GVw5Q+gLLGkaIky2cgHg=  0.000038\n",
       "15      SgsYzmPz4F+5yuizwY19DBuB7bG2M8XO4w2HgeoiVao=  0.000344\n",
       "16      r7uMlDl8SMX2/eb6/6SBvpVJJyIaWal960CjEMCaHwY=  0.000076\n",
       "17      yv6SRY5UhgBC3xuotAbHMEinqTE4dK549mmGFb4kgMg=  0.000082\n",
       "18      BbixFu69KFzvikp912yLUrZcrLh/rS1JacAqiuOOz58=  0.001574\n",
       "19      yhTxfTYpBl9Zg83Xt0Tqe4wwCiUjmyP3xu/cBolYAnc=  0.000097\n",
       "20      Ls0k759Zk4OeFSn7klx2n+tjzoeSrzVo7qe7J6GsZ+c=  0.000146\n",
       "21      EAhHyGcHP1nTC8yLEYwv5FeAYQHnNoxVQ1zLLfo476M=  0.000151\n",
       "22      pr6BJ1htkqpQs3DFiLraC4GcIqLaIb2I3FR7IYRvTA8=  0.000091\n",
       "23      bfmlN2/23zHuVMQFhutlh5toKqlP0B8Bl0hqUY/QpA0=  0.000118\n",
       "24      2RGiQICMdDfTq4NQGiAy++22xu7/wHoYsyZ62HvuTWM=  0.000158\n",
       "25      hGl9YONKgxQXFePFe1Uc3/QuHGQ2XGNvO7V4j853gfQ=  0.000120\n",
       "26      yPg5sytJjIxNhgDt8xnITGHJ1Qp5kHJsB+zlauUvBlI=  0.000169\n",
       "27      FJ18bQnRKKSfsngTujMXxHkWFKcj0lkHpULhNWkxfxE=  0.000046\n",
       "28      sL/F4cMXI8iS8IKShdZz0WryHw6mbUiGO0/sLmtZFCc=  0.000108\n",
       "29      nyt+txIUDIp3/+vZFRVQffD2nJZo2/EXmHGqnu640N0=  0.000068\n",
       "...                                              ...       ...\n",
       "907441  p/89pNXxgp4v5hBKsUsT8w5sjx9/6P9gXUOKErxpUpg=  0.962232\n",
       "907442  HuBPzeMIwJpXuWwLcCRvK5bXI8CDsxlRXcbOMX8SKJc=  0.911015\n",
       "907443  UBR5lCgeLyGNF5m5w8E5GdgruEt5q/3VhDuhF/EHNt4=  0.968632\n",
       "907444  W2M/5tU3xx33j9S9Gi76Ar9BTM91JPU+/9bLVztwCTU=  0.982430\n",
       "907445  GY3Sx6dXfuOH0sTEe/KcueeGdFmtM6t/waTg8Fcukeo=  0.980072\n",
       "907446  5WvV3fzm52bvTa69YKawmEOXYnmsqEyNJ/k1pLVVWU8=  0.975256\n",
       "907447  N3MmJLk3zfb9jyRzbmRNnhdqusd8P2RTXztvDg5cPJ8=  0.968785\n",
       "907448  wDBIT0wEdWHxr0AyjnBTlIkjAqBFRNnUOBta7NBmnWY=  0.889802\n",
       "907449  eJf354UFCOH+YMqUfkf7SVu+uGcrwp0XVJvZh3peBYk=  0.979270\n",
       "907450  RMyfxDav0nrqluLKEVq+4mcENvOjpJ572hOXoG5Gumk=  0.993548\n",
       "907451  pF4VAkPRMI8UqBv23JfnIisn5Ktl0IUP5QCbBllWxug=  0.986277\n",
       "907452  3u1ByV7fhnptUPaX76bzZyoAOIovnDln34E7uslwpNg=  0.999478\n",
       "907453  S/pXjUn211WOodxicOYZ1UE65+Jx9Hgf3aDQBL8SyaU=  0.948279\n",
       "907454  FYQ7lK8nc+27zsK4TZ+hjtOG8tSABi8OgC5pMwqjack=  0.980153\n",
       "907455  S95pA+BZ2IGWjlZYnMl+knRmb9wJlk35S2SxM+XvO5U=  0.973914\n",
       "907456  hRM29eONnmGl3d3kUHWSpU9O+VPyMjsJP9gjqYJwDko=  0.965673\n",
       "907457  fhL6YsZ+BVP0TMTS621u3HyVx1Z8evwFphcuk3OFoN8=  0.992714\n",
       "907458  lD3dzhYDYBT4gvmu6e0y40nPvr8yUjvYA06GzriRzj0=  0.996197\n",
       "907459  x3ukO1PTJJX8UYwSm+YkuMr0XbPSDmCYUOZ8V3tQO9k=  0.996387\n",
       "907460  ydmW5qkPMqw8T1FUyGnwuqhD8GpqHsBaou9Y8ONRq7w=  0.996026\n",
       "907461  8bPUSTsX5dM6P3mtrE7vutVydTBlCPnk/zluOmdDyJ0=  0.983373\n",
       "907462  AyOijXCe5ucGJQR0IRjZ5JlAOhnuJAh3eOjhsXAkmE4=  0.999698\n",
       "907463  qpYOyBz6i3fuc/GgNOG5gWH9wRUvTL2ytSKWPLHsUIk=  0.976412\n",
       "907464  vb6mgwu7vAq8u3YTDqSFii4v3GGXzmSNG+A/+jDfH80=  0.994059\n",
       "907465  K1sNdqiOE4Ex/eymOlVwNx6ObScGPBlAnfiAkt+XXhA=  0.986822\n",
       "907466  8eNSAJ2MuSWx/zF85dj8fHK+ifocRW/IA7zEnb9RbmA=  0.997277\n",
       "907467  4lX5YwIBegyH/pcUxp40fgqeFQ84yH/KG54dRy/ctmE=  0.995041\n",
       "907468  x0+1zsz0Ziu4YmMZHCA0yFtPZXwG+vgiE65TIpjWw4s=  0.972325\n",
       "907469  sxhLcyV5nUh6leI1kal8MYkBDQD/3iLTNwmBC8EDZ/k=  0.949072\n",
       "907470  H7PXq4UBN/p/kibJn0HMJiD0FcWzDD6uRqf8ah0GW6A=  0.958846\n",
       "\n",
       "[907471 rows x 2 columns]"
      ]
     },
     "execution_count": 99,
     "metadata": {},
     "output_type": "execute_result"
    }
   ],
   "source": [
    "df_merge_test[['msno','is_churn']]"
   ]
  },
  {
   "cell_type": "code",
   "execution_count": null,
   "metadata": {},
   "outputs": [],
   "source": []
  }
 ],
 "metadata": {
  "kernelspec": {
   "display_name": "Python 3",
   "language": "python",
   "name": "python3"
  },
  "language_info": {
   "codemirror_mode": {
    "name": "ipython",
    "version": 3
   },
   "file_extension": ".py",
   "mimetype": "text/x-python",
   "name": "python",
   "nbconvert_exporter": "python",
   "pygments_lexer": "ipython3",
   "version": "3.6.2"
  }
 },
 "nbformat": 4,
 "nbformat_minor": 2
}
