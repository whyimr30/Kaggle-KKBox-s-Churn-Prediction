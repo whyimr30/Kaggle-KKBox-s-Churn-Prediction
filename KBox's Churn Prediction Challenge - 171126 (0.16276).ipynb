{
 "cells": [
  {
   "cell_type": "code",
   "execution_count": 1,
   "metadata": {},
   "outputs": [],
   "source": [
    "import numpy as np # linear algebra\n",
    "import pandas as pd # data processing, CSV file I/O (e.g. pd.read_csv)\n",
    "import matplotlib.pyplot as plt\n",
    "import seaborn as sns"
   ]
  },
  {
   "cell_type": "code",
   "execution_count": 2,
   "metadata": {},
   "outputs": [],
   "source": [
    "%matplotlib inline\n",
    "sns.set_style('darkgrid')"
   ]
  },
  {
   "cell_type": "code",
   "execution_count": 3,
   "metadata": {},
   "outputs": [],
   "source": [
    "chunk_size = 10000"
   ]
  },
  {
   "cell_type": "code",
   "execution_count": 4,
   "metadata": {},
   "outputs": [],
   "source": [
    "# Load v1 & v2 train data\n",
    "\n",
    "df_train_v1 = pd.read_csv('train.csv')\n",
    "df_train_v2 = pd.read_csv('train_v2.csv')\n",
    "df_train = pd.concat([df_train_v1, df_train_v2], ignore_index=True).reset_index(drop=True)\n",
    "df_train.drop_duplicates('msno',keep='last',inplace=True)"
   ]
  },
  {
   "cell_type": "code",
   "execution_count": 5,
   "metadata": {},
   "outputs": [],
   "source": [
    "# load test data\n",
    "\n",
    "df_test = pd.read_csv('sample_submission_v2.csv')"
   ]
  },
  {
   "cell_type": "code",
   "execution_count": 6,
   "metadata": {},
   "outputs": [],
   "source": [
    "# Load members with msno only in the train data\n",
    "\n",
    "df_members = pd.read_csv('members_v3.csv')"
   ]
  },
  {
   "cell_type": "code",
   "execution_count": 7,
   "metadata": {},
   "outputs": [],
   "source": [
    "chunks_trans = pd.read_csv('transactions.csv', iterator=True, chunksize=chunk_size)\n",
    "\n",
    "df_trans = pd.concat(list(chunks_trans), ignore_index=True)"
   ]
  },
  {
   "cell_type": "code",
   "execution_count": 8,
   "metadata": {},
   "outputs": [],
   "source": [
    "df_trans = pd.concat([df_trans, pd.read_csv('transactions_v2.csv')], ignore_index=True)"
   ]
  },
  {
   "cell_type": "code",
   "execution_count": 11,
   "metadata": {},
   "outputs": [],
   "source": [
    "df_logs = pd.DataFrame()\n",
    "\n",
    "chunks_logs = pd.read_csv('user_logs_v2.csv', iterator=True, chunksize=chunk_size)\n",
    "\n",
    "for chunk in chunks_logs:\n",
    "    chunk['num_25'] = chunk['num_25'].astype(np.int16)\n",
    "    chunk['num_50'] = chunk['num_50'].astype(np.int16)\n",
    "    chunk['num_75'] = chunk['num_75'].astype(np.int16)\n",
    "    chunk['num_985'] = chunk['num_985'].astype(np.int16)\n",
    "    chunk['num_100'] = chunk['num_100'].astype(np.int16)\n",
    "    chunk['total_secs'] = chunk['total_secs'].astype(np.float32)\n",
    "    chunk['date'] = chunk['date'].astype(np.int32)\n",
    "    \n",
    "    df_logs = pd.concat([df_logs,chunk], ignore_index=True)"
   ]
  },
  {
   "cell_type": "code",
   "execution_count": 12,
   "metadata": {},
   "outputs": [],
   "source": [
    "#f,ax=plt.subplots(1,2,figsize=(16,8))\n",
    "#sns.stripplot(x=\"is_churn\", y=\"city\", data=df_members_train, ax=ax[0])\n",
    "#sns.countplot(x='city', data=df_members_train, ax=ax[1])"
   ]
  },
  {
   "cell_type": "code",
   "execution_count": 13,
   "metadata": {},
   "outputs": [],
   "source": [
    "#f,ax=plt.subplots(1,2,figsize=(16,8))\n",
    "#sns.stripplot(x=\"is_churn\", y=\"registered_via\", data=df_members_train, ax=ax[0])\n",
    "#sns.countplot(x='registered_via', data=df_members_train, ax=ax[1])"
   ]
  },
  {
   "cell_type": "markdown",
   "metadata": {},
   "source": [
    "# Features engineering for members.csv"
   ]
  },
  {
   "cell_type": "code",
   "execution_count": 14,
   "metadata": {},
   "outputs": [],
   "source": [
    "# convert date to datetime\n",
    "\n",
    "df_members['registration_init_dtime'] = pd.to_datetime(df_members['registration_init_time'],format='%Y%m%d')"
   ]
  },
  {
   "cell_type": "code",
   "execution_count": 15,
   "metadata": {},
   "outputs": [],
   "source": [
    "# get #of days from April 1st to members registration time\n",
    "\n",
    "from datetime import date\n",
    "\n",
    "df_members['subscription_days'] = (date(2017,4,1) - df_members['registration_init_dtime']).dt.days"
   ]
  },
  {
   "cell_type": "code",
   "execution_count": 16,
   "metadata": {},
   "outputs": [],
   "source": [
    "# drop useless columns before merging with transactions\n",
    "\n",
    "df_members.drop(['gender','bd','registration_init_time','registration_init_dtime','city','registered_via'],axis=1,inplace=True)"
   ]
  },
  {
   "cell_type": "code",
   "execution_count": 17,
   "metadata": {},
   "outputs": [],
   "source": [
    "#sns.countplot(x='is_churn',data=df_members_train)"
   ]
  },
  {
   "cell_type": "code",
   "execution_count": 18,
   "metadata": {},
   "outputs": [],
   "source": [
    "#f,ax=plt.subplots(1,2,figsize=(16,8))\n",
    "#sns.distplot(df_members_train['subscription_days'], bins=20, ax=ax[0])\n",
    "#sns.countplot(x='subscription_days',data=df_members_train,hue='is_churn', palette='YlGnBu')"
   ]
  },
  {
   "cell_type": "code",
   "execution_count": 19,
   "metadata": {},
   "outputs": [],
   "source": [
    "#sns.pairplot(df_members_train[['city','registered_via','is_churn','subscription_days']], hue='is_churn')"
   ]
  },
  {
   "cell_type": "code",
   "execution_count": 20,
   "metadata": {},
   "outputs": [],
   "source": [
    "df_members_train = pd.merge(df_members, df_train, on='msno', how='inner')\n",
    "df_members_test = pd.merge(df_members, df_test, on='msno', how='right')"
   ]
  },
  {
   "cell_type": "markdown",
   "metadata": {},
   "source": [
    "# Features engineering for transactions.csv"
   ]
  },
  {
   "cell_type": "code",
   "execution_count": 21,
   "metadata": {},
   "outputs": [],
   "source": [
    "# merge df_trans and df_members_trains so only has to process msnos that are in train.csv\n",
    "\n",
    "df_merge = pd.merge(df_trans, pd.concat([df_members_train,df_members_test],ignore_index=True), on='msno', how='right')"
   ]
  },
  {
   "cell_type": "code",
   "execution_count": 22,
   "metadata": {},
   "outputs": [],
   "source": [
    "# remove unnecessary dfs to save memory\n",
    "\n",
    "del df_members\n",
    "del df_train_v1\n",
    "del df_train_v2\n",
    "del df_members_train\n",
    "del df_members_test\n",
    "del df_trans"
   ]
  },
  {
   "cell_type": "code",
   "execution_count": 23,
   "metadata": {},
   "outputs": [],
   "source": [
    "def df_lower_mem(df):\n",
    "    df['payment_method_id'] = df['payment_method_id'].astype(np.int8)\n",
    "    df['payment_plan_days'] = df['payment_plan_days'].astype(np.int16)\n",
    "    df['plan_list_price'] = df['plan_list_price'].astype(np.int16)\n",
    "    df['actual_amount_paid'] = df['actual_amount_paid'].astype(np.int16)\n",
    "    df['is_auto_renew'] = df['is_auto_renew'].astype(np.int8)\n",
    "    df['is_cancel'] = df['is_cancel'].astype(np.int8)\n",
    "    df['is_churn'] = df['is_churn'].astype(np.int8)\n",
    "    return df\n",
    "\n",
    "df_merge = df_lower_mem(df_merge)"
   ]
  },
  {
   "cell_type": "code",
   "execution_count": 24,
   "metadata": {},
   "outputs": [],
   "source": [
    "# drop rows that have no payments\n",
    "\n",
    "#df_merge = df_merge.drop(df_merge[df_merge['actual_amount_paid'] <= 0].index)"
   ]
  },
  {
   "cell_type": "code",
   "execution_count": 25,
   "metadata": {},
   "outputs": [],
   "source": [
    "# Re-calculate payment_plan_days if 0\n",
    "\n",
    "#df_merge['payment_plan_days'] = np.where(df_merge['payment_plan_days']==0,(df_merge['membership_expire_dtime']-df_merge['transaction_dtime']).dt.days,df_merge['payment_plan_days'])\n",
    "\n",
    "#df_merge.loc[df_merge['payment_plan_days']==0,'payment_plan_days'] = (df_merge['membership_expire_dtime']-df_merge['transaction_dtime']).dt.days"
   ]
  },
  {
   "cell_type": "code",
   "execution_count": 26,
   "metadata": {},
   "outputs": [],
   "source": [
    "#Set payment_plan_days back to 0 if re-calculation is -ive\n",
    "\n",
    "\n",
    "#df_merge.loc[df_merge['payment_plan_days']<0,'payment_plan_days'] = 0"
   ]
  },
  {
   "cell_type": "code",
   "execution_count": 27,
   "metadata": {},
   "outputs": [],
   "source": [
    "#a If plan_list_price is 0 assume it is actual_amount_paid\n",
    "\n",
    "#df_merge.loc[df_merge['plan_list_price']<=0,'plan_list_price'] = df_merge['actual_amount_paid']"
   ]
  },
  {
   "cell_type": "code",
   "execution_count": 28,
   "metadata": {},
   "outputs": [],
   "source": [
    "groupby_msno = df_merge.groupby(df_merge['msno'])"
   ]
  },
  {
   "cell_type": "code",
   "execution_count": 29,
   "metadata": {},
   "outputs": [],
   "source": [
    "# Count # of transactions\n",
    "\n",
    "df_merge['trans_count'] = (groupby_msno['payment_method_id'].transform('count')).astype(np.int16)"
   ]
  },
  {
   "cell_type": "code",
   "execution_count": 30,
   "metadata": {},
   "outputs": [],
   "source": [
    "# Total subscription days\n",
    "\n",
    "df_merge['total_pay_days'] = (groupby_msno['payment_plan_days'].transform('sum')).astype(np.int16)"
   ]
  },
  {
   "cell_type": "code",
   "execution_count": 31,
   "metadata": {},
   "outputs": [],
   "source": [
    "# Average payment in each transaction\n",
    "\n",
    "df_merge['avg_pay'] = (groupby_msno['actual_amount_paid'].transform('mean')).astype(np.int16)"
   ]
  },
  {
   "cell_type": "code",
   "execution_count": 32,
   "metadata": {},
   "outputs": [],
   "source": [
    "# Total subscription payment\n",
    "\n",
    "df_merge['total_payments'] = (groupby_msno['actual_amount_paid'].transform('sum')).astype(np.int16)"
   ]
  },
  {
   "cell_type": "code",
   "execution_count": 33,
   "metadata": {},
   "outputs": [],
   "source": [
    "# Assume is_cancel = 1 with actual payment > 0 is a plan change; count the total number of plan changes\n",
    "\n",
    "#df_merge['count_plan_change'] = groupby_msno['is_cancel'].transform(lambda x: (x==1).sum())"
   ]
  },
  {
   "cell_type": "code",
   "execution_count": 34,
   "metadata": {},
   "outputs": [],
   "source": [
    "# Count # of auto_renew\n",
    "\n",
    "#df_merge['count_auto_renew'] = groupby_msno['is_auto_renew'].transform(lambda x: (x==1).sum())"
   ]
  },
  {
   "cell_type": "code",
   "execution_count": 35,
   "metadata": {},
   "outputs": [],
   "source": [
    "# Average list Price\n",
    "\n",
    "df_merge['avg_list_price'] = (groupby_msno['plan_list_price'].transform('mean')).astype(np.int16)"
   ]
  },
  {
   "cell_type": "code",
   "execution_count": 36,
   "metadata": {},
   "outputs": [],
   "source": [
    "# Keep only the record with the most recent transaction date \n",
    "\n",
    "df_merge = df_merge.sort_values(by=['transaction_date'], ascending=False).reset_index(drop=True)\n",
    "df_merge.drop_duplicates('msno',keep='first',inplace=True)"
   ]
  },
  {
   "cell_type": "code",
   "execution_count": 37,
   "metadata": {},
   "outputs": [],
   "source": [
    "df_merge['transaction_days'] = pd.to_datetime(df_merge['transaction_date'],format='%Y%m%d')\n",
    "df_merge['membership_expire_days'] = pd.to_datetime(df_merge['membership_expire_date'],format='%Y%m%d')"
   ]
  },
  {
   "cell_type": "code",
   "execution_count": 38,
   "metadata": {},
   "outputs": [],
   "source": [
    "# Calculate last transaction is how many days ago from April\n",
    "\n",
    "df_merge['last_trans_days'] = ((date(2017,4,1) - df_merge['transaction_days']).dt.days).astype(np.int16)"
   ]
  },
  {
   "cell_type": "code",
   "execution_count": 39,
   "metadata": {},
   "outputs": [],
   "source": [
    "df_merge['membership_expiry_days_fr_April'] = ((date(2017,4,1) - df_merge['membership_expire_days']).dt.days).astype(np.int16)"
   ]
  },
  {
   "cell_type": "code",
   "execution_count": 40,
   "metadata": {
    "scrolled": true
   },
   "outputs": [],
   "source": [
    "df_merge.drop(['transaction_date','membership_expire_date','transaction_days','membership_expire_days'],axis=1,inplace=True)"
   ]
  },
  {
   "cell_type": "code",
   "execution_count": 41,
   "metadata": {},
   "outputs": [],
   "source": [
    "df_merge_train = pd.merge(df_merge.drop('is_churn',axis=1), df_train, on='msno', how='inner')\n",
    "df_merge_test = pd.merge(df_merge.drop('is_churn',axis=1), df_test, on='msno', how='right')"
   ]
  },
  {
   "cell_type": "code",
   "execution_count": 42,
   "metadata": {},
   "outputs": [],
   "source": [
    "df_merge_test.drop('is_churn',inplace=True,axis=1)"
   ]
  },
  {
   "cell_type": "markdown",
   "metadata": {},
   "source": [
    "# Features engineering for user_log.csv"
   ]
  },
  {
   "cell_type": "code",
   "execution_count": 43,
   "metadata": {},
   "outputs": [],
   "source": [
    "# merge df_trans and df_members_trains so only has to process msnos that are in user_logs.csv\n",
    "\n",
    "df_merge_logs = pd.merge(df_logs, pd.concat([df_train,df_test],ignore_index=True), on='msno', how='right')"
   ]
  },
  {
   "cell_type": "code",
   "execution_count": 44,
   "metadata": {},
   "outputs": [],
   "source": [
    "df_merge_logs.fillna(value=0, inplace=True)"
   ]
  },
  {
   "cell_type": "code",
   "execution_count": 45,
   "metadata": {},
   "outputs": [],
   "source": [
    "def df_logs_lower_mem(df):\n",
    "    df['num_25'] = df['num_25'].astype(np.int16)\n",
    "    df['num_50'] = df['num_50'].astype(np.int16)\n",
    "    df['num_75'] = df['num_75'].astype(np.int16)\n",
    "    df['num_985'] = df['num_985'].astype(np.int16)\n",
    "    df['num_100'] = df['num_100'].astype(np.int16)\n",
    "    df['total_secs'] = df['total_secs'].astype(np.float32)\n",
    "    df['date'] = df['date'].astype(np.int32)\n",
    "    df['num_unq'] = df['num_unq'].astype(np.int16)\n",
    "    df.drop('is_churn',axis=1,inplace=True)\n",
    "    return df\n",
    "\n",
    "df_merge_logs = df_logs_lower_mem(df_merge_logs)\n",
    "\n",
    "del df_logs"
   ]
  },
  {
   "cell_type": "code",
   "execution_count": 46,
   "metadata": {},
   "outputs": [],
   "source": [
    "df_merge_logs.drop_duplicates(['msno','date'],inplace=True)"
   ]
  },
  {
   "cell_type": "code",
   "execution_count": 47,
   "metadata": {},
   "outputs": [],
   "source": [
    "logs_groupby_msno = df_merge_logs.groupby(df_merge_logs['msno'])"
   ]
  },
  {
   "cell_type": "code",
   "execution_count": 48,
   "metadata": {},
   "outputs": [],
   "source": [
    "# Count # of play days\n",
    "\n",
    "df_merge_logs['play_days'] = (logs_groupby_msno['date'].transform('count')).astype(np.int8)"
   ]
  },
  {
   "cell_type": "code",
   "execution_count": 49,
   "metadata": {},
   "outputs": [],
   "source": [
    "df_merge_logs.loc[df_merge_logs['date']==0,'play_days'] = 255"
   ]
  },
  {
   "cell_type": "code",
   "execution_count": 50,
   "metadata": {},
   "outputs": [],
   "source": [
    "# Count # of play days\n",
    "\n",
    "#df_merge_logs['avg_25'] = (logs_groupby_msno['num_25'].transform('mean')).astype(np.int16)\n",
    "#df_merge_logs['avg_50'] = (logs_groupby_msno['num_50'].transform('mean')).astype(np.int16)\n",
    "#df_merge_logs['avg_75'] = (logs_groupby_msno['num_75'].transform('mean')).astype(np.int16)\n",
    "#df_merge_logs['avg_985'] = (logs_groupby_msno['num_985'].transform('mean')).astype(np.int16)\n",
    "#df_merge_logs['avg_100'] = (logs_groupby_msno['num_100'].transform('mean')).astype(np.int16)\n",
    "#df_merge_logs['avg_unq'] = (logs_groupby_msno['num_unq'].transform('mean')).astype(np.int16)"
   ]
  },
  {
   "cell_type": "code",
   "execution_count": 51,
   "metadata": {},
   "outputs": [],
   "source": [
    "df_merge_logs['total_month_secs'] = (logs_groupby_msno['total_secs'].transform('sum')).astype(np.float32)"
   ]
  },
  {
   "cell_type": "code",
   "execution_count": 52,
   "metadata": {},
   "outputs": [],
   "source": [
    "# Keep only the record with the most recent transaction date \n",
    "\n",
    "df_merge_logs = df_merge_logs.sort_values(by=['date'], ascending=False).reset_index(drop=True)\n",
    "df_merge_logs.drop_duplicates('msno',keep='first',inplace=True)"
   ]
  },
  {
   "cell_type": "code",
   "execution_count": 53,
   "metadata": {},
   "outputs": [],
   "source": [
    "df_merge_logs.loc[df_merge_logs['date']!=0,'dtime'] = pd.to_datetime(df_merge_logs[df_merge_logs['date']!=0]['date'],format='%Y%m%d')"
   ]
  },
  {
   "cell_type": "code",
   "execution_count": 54,
   "metadata": {},
   "outputs": [],
   "source": [
    "df_merge_logs.loc[df_merge_logs['date']!=0,'last_play_days'] = ((date(2017,4,1) - df_merge_logs[df_merge_logs['date']!=0]['dtime']).dt.days).astype(np.int8)"
   ]
  },
  {
   "cell_type": "code",
   "execution_count": 55,
   "metadata": {},
   "outputs": [],
   "source": [
    "df_merge_logs.drop(['date', 'num_25', 'num_50', 'num_75', 'num_985', 'num_100','num_unq', 'total_secs','dtime'],axis=1,inplace=True)"
   ]
  },
  {
   "cell_type": "code",
   "execution_count": 56,
   "metadata": {},
   "outputs": [],
   "source": [
    "df_merge_train = pd.merge(df_merge_train, df_merge_logs, on='msno', how='inner')\n",
    "df_merge_test = pd.merge(df_merge_test, df_merge_logs, on='msno', how='left')"
   ]
  },
  {
   "cell_type": "markdown",
   "metadata": {},
   "source": [
    "# Training the models"
   ]
  },
  {
   "cell_type": "code",
   "execution_count": 57,
   "metadata": {},
   "outputs": [],
   "source": [
    "from sklearn.model_selection import train_test_split"
   ]
  },
  {
   "cell_type": "code",
   "execution_count": 58,
   "metadata": {},
   "outputs": [
    {
     "data": {
      "text/plain": [
       "Index(['msno', 'payment_method_id', 'payment_plan_days', 'plan_list_price',\n",
       "       'actual_amount_paid', 'is_auto_renew', 'is_cancel', 'subscription_days',\n",
       "       'trans_count', 'total_pay_days', 'avg_pay', 'total_payments',\n",
       "       'avg_list_price', 'last_trans_days', 'membership_expiry_days_fr_April',\n",
       "       'is_churn', 'play_days', 'total_month_secs', 'last_play_days'],\n",
       "      dtype='object')"
      ]
     },
     "execution_count": 58,
     "metadata": {},
     "output_type": "execute_result"
    }
   ],
   "source": [
    "df_merge_train.columns"
   ]
  },
  {
   "cell_type": "code",
   "execution_count": 59,
   "metadata": {},
   "outputs": [],
   "source": [
    "features = ['payment_method_id',\n",
    "            'plan_list_price',\n",
    "            'subscription_days',\n",
    "            'trans_count',\n",
    "            'total_pay_days',\n",
    "            'avg_pay',\n",
    "            'total_payments',\n",
    "            'avg_list_price',\n",
    "            'last_trans_days',\n",
    "            'membership_expiry_days_fr_April',\n",
    "            'play_days',\n",
    "            'total_month_secs', \n",
    "            'last_play_days']\n",
    "\n",
    "X = df_merge_train[features]\n",
    "y = df_merge_train['is_churn']"
   ]
  },
  {
   "cell_type": "code",
   "execution_count": 60,
   "metadata": {},
   "outputs": [],
   "source": [
    "X_train, X_test, y_train, y_test = train_test_split(X, y, test_size=0.30, random_state=101)"
   ]
  },
  {
   "cell_type": "markdown",
   "metadata": {},
   "source": [
    "# Train with XGBoost"
   ]
  },
  {
   "cell_type": "code",
   "execution_count": 61,
   "metadata": {},
   "outputs": [
    {
     "name": "stderr",
     "output_type": "stream",
     "text": [
      "/Users/whyi/Applications/anaconda/envs/MachineLearning/lib/python3.6/site-packages/sklearn/cross_validation.py:41: DeprecationWarning: This module was deprecated in version 0.18 in favor of the model_selection module into which all the refactored classes and functions are moved. Also note that the interface of the new CV iterators are different from that of this module. This module will be removed in 0.20.\n",
      "  \"This module will be removed in 0.20.\", DeprecationWarning)\n"
     ]
    }
   ],
   "source": [
    "from xgboost import XGBClassifier"
   ]
  },
  {
   "cell_type": "code",
   "execution_count": 62,
   "metadata": {},
   "outputs": [],
   "source": [
    "xgb = XGBClassifier(max_depth=7,learning_rate=0.02,n_estimators=300,silent=False,objective='binary:logistic', seed=50)"
   ]
  },
  {
   "cell_type": "code",
   "execution_count": 63,
   "metadata": {},
   "outputs": [
    {
     "name": "stdout",
     "output_type": "stream",
     "text": [
      "[0]\tvalidation_0-logloss:0.675382\tvalidation_1-logloss:0.675385\n",
      "Multiple eval metrics have been passed: 'validation_1-logloss' will be used for early stopping.\n",
      "\n",
      "Will train until validation_1-logloss hasn't improved in 30 rounds.\n",
      "[1]\tvalidation_0-logloss:0.658311\tvalidation_1-logloss:0.658319\n",
      "[2]\tvalidation_0-logloss:0.641898\tvalidation_1-logloss:0.64191\n",
      "[3]\tvalidation_0-logloss:0.626103\tvalidation_1-logloss:0.626122\n",
      "[4]\tvalidation_0-logloss:0.610899\tvalidation_1-logloss:0.610925\n",
      "[5]\tvalidation_0-logloss:0.596247\tvalidation_1-logloss:0.596281\n",
      "[6]\tvalidation_0-logloss:0.582126\tvalidation_1-logloss:0.582168\n",
      "[7]\tvalidation_0-logloss:0.568503\tvalidation_1-logloss:0.56855\n",
      "[8]\tvalidation_0-logloss:0.555362\tvalidation_1-logloss:0.555417\n",
      "[9]\tvalidation_0-logloss:0.542643\tvalidation_1-logloss:0.542706\n",
      "[10]\tvalidation_0-logloss:0.530352\tvalidation_1-logloss:0.530419\n",
      "[11]\tvalidation_0-logloss:0.518481\tvalidation_1-logloss:0.518553\n",
      "[12]\tvalidation_0-logloss:0.506991\tvalidation_1-logloss:0.507068\n",
      "[13]\tvalidation_0-logloss:0.495882\tvalidation_1-logloss:0.495967\n",
      "[14]\tvalidation_0-logloss:0.485143\tvalidation_1-logloss:0.485232\n",
      "[15]\tvalidation_0-logloss:0.47474\tvalidation_1-logloss:0.474837\n",
      "[16]\tvalidation_0-logloss:0.464666\tvalidation_1-logloss:0.464769\n",
      "[17]\tvalidation_0-logloss:0.454889\tvalidation_1-logloss:0.454999\n",
      "[18]\tvalidation_0-logloss:0.445428\tvalidation_1-logloss:0.445541\n",
      "[19]\tvalidation_0-logloss:0.43627\tvalidation_1-logloss:0.436391\n",
      "[20]\tvalidation_0-logloss:0.427366\tvalidation_1-logloss:0.42749\n",
      "[21]\tvalidation_0-logloss:0.418744\tvalidation_1-logloss:0.418877\n",
      "[22]\tvalidation_0-logloss:0.410376\tvalidation_1-logloss:0.410514\n",
      "[23]\tvalidation_0-logloss:0.402256\tvalidation_1-logloss:0.402402\n",
      "[24]\tvalidation_0-logloss:0.394372\tvalidation_1-logloss:0.394525\n",
      "[25]\tvalidation_0-logloss:0.386709\tvalidation_1-logloss:0.386865\n",
      "[26]\tvalidation_0-logloss:0.37928\tvalidation_1-logloss:0.37944\n",
      "[27]\tvalidation_0-logloss:0.372068\tvalidation_1-logloss:0.372236\n",
      "[28]\tvalidation_0-logloss:0.365053\tvalidation_1-logloss:0.365228\n",
      "[29]\tvalidation_0-logloss:0.358243\tvalidation_1-logloss:0.358425\n",
      "[30]\tvalidation_0-logloss:0.351617\tvalidation_1-logloss:0.351804\n",
      "[31]\tvalidation_0-logloss:0.345188\tvalidation_1-logloss:0.345382\n",
      "[32]\tvalidation_0-logloss:0.338925\tvalidation_1-logloss:0.339125\n",
      "[33]\tvalidation_0-logloss:0.332838\tvalidation_1-logloss:0.333045\n",
      "[34]\tvalidation_0-logloss:0.326919\tvalidation_1-logloss:0.32713\n",
      "[35]\tvalidation_0-logloss:0.321159\tvalidation_1-logloss:0.321375\n",
      "[36]\tvalidation_0-logloss:0.315549\tvalidation_1-logloss:0.315771\n",
      "[37]\tvalidation_0-logloss:0.310086\tvalidation_1-logloss:0.310308\n",
      "[38]\tvalidation_0-logloss:0.304779\tvalidation_1-logloss:0.305009\n",
      "[39]\tvalidation_0-logloss:0.299608\tvalidation_1-logloss:0.299842\n",
      "[40]\tvalidation_0-logloss:0.294578\tvalidation_1-logloss:0.294815\n",
      "[41]\tvalidation_0-logloss:0.289672\tvalidation_1-logloss:0.289912\n",
      "[42]\tvalidation_0-logloss:0.2849\tvalidation_1-logloss:0.285144\n",
      "[43]\tvalidation_0-logloss:0.280255\tvalidation_1-logloss:0.280501\n",
      "[44]\tvalidation_0-logloss:0.275734\tvalidation_1-logloss:0.275984\n",
      "[45]\tvalidation_0-logloss:0.271322\tvalidation_1-logloss:0.271576\n",
      "[46]\tvalidation_0-logloss:0.267022\tvalidation_1-logloss:0.267281\n",
      "[47]\tvalidation_0-logloss:0.262831\tvalidation_1-logloss:0.263091\n",
      "[48]\tvalidation_0-logloss:0.258751\tvalidation_1-logloss:0.259012\n",
      "[49]\tvalidation_0-logloss:0.254771\tvalidation_1-logloss:0.255031\n",
      "[50]\tvalidation_0-logloss:0.2509\tvalidation_1-logloss:0.251164\n",
      "[51]\tvalidation_0-logloss:0.247118\tvalidation_1-logloss:0.247384\n",
      "[52]\tvalidation_0-logloss:0.243438\tvalidation_1-logloss:0.243708\n",
      "[53]\tvalidation_0-logloss:0.23984\tvalidation_1-logloss:0.240111\n",
      "[54]\tvalidation_0-logloss:0.236329\tvalidation_1-logloss:0.236597\n",
      "[55]\tvalidation_0-logloss:0.232915\tvalidation_1-logloss:0.233185\n",
      "[56]\tvalidation_0-logloss:0.229589\tvalidation_1-logloss:0.22986\n",
      "[57]\tvalidation_0-logloss:0.226337\tvalidation_1-logloss:0.226611\n",
      "[58]\tvalidation_0-logloss:0.223152\tvalidation_1-logloss:0.223427\n",
      "[59]\tvalidation_0-logloss:0.220053\tvalidation_1-logloss:0.220328\n",
      "[60]\tvalidation_0-logloss:0.217031\tvalidation_1-logloss:0.217307\n",
      "[61]\tvalidation_0-logloss:0.214079\tvalidation_1-logloss:0.214356\n",
      "[62]\tvalidation_0-logloss:0.211203\tvalidation_1-logloss:0.211483\n",
      "[63]\tvalidation_0-logloss:0.208393\tvalidation_1-logloss:0.208672\n",
      "[64]\tvalidation_0-logloss:0.205656\tvalidation_1-logloss:0.205936\n",
      "[65]\tvalidation_0-logloss:0.202982\tvalidation_1-logloss:0.203265\n",
      "[66]\tvalidation_0-logloss:0.200374\tvalidation_1-logloss:0.200662\n",
      "[67]\tvalidation_0-logloss:0.197825\tvalidation_1-logloss:0.198112\n",
      "[68]\tvalidation_0-logloss:0.195338\tvalidation_1-logloss:0.195629\n",
      "[69]\tvalidation_0-logloss:0.192911\tvalidation_1-logloss:0.193207\n",
      "[70]\tvalidation_0-logloss:0.190535\tvalidation_1-logloss:0.190832\n",
      "[71]\tvalidation_0-logloss:0.188221\tvalidation_1-logloss:0.188522\n",
      "[72]\tvalidation_0-logloss:0.185943\tvalidation_1-logloss:0.186247\n",
      "[73]\tvalidation_0-logloss:0.183738\tvalidation_1-logloss:0.184042\n",
      "[74]\tvalidation_0-logloss:0.181488\tvalidation_1-logloss:0.181805\n",
      "[75]\tvalidation_0-logloss:0.179243\tvalidation_1-logloss:0.179578\n",
      "[76]\tvalidation_0-logloss:0.177096\tvalidation_1-logloss:0.177444\n",
      "[77]\tvalidation_0-logloss:0.174961\tvalidation_1-logloss:0.175326\n",
      "[78]\tvalidation_0-logloss:0.172883\tvalidation_1-logloss:0.173266\n",
      "[79]\tvalidation_0-logloss:0.170877\tvalidation_1-logloss:0.171266\n",
      "[80]\tvalidation_0-logloss:0.16889\tvalidation_1-logloss:0.169296\n",
      "[81]\tvalidation_0-logloss:0.166984\tvalidation_1-logloss:0.167401\n",
      "[82]\tvalidation_0-logloss:0.165094\tvalidation_1-logloss:0.165526\n",
      "[83]\tvalidation_0-logloss:0.163249\tvalidation_1-logloss:0.163695\n",
      "[84]\tvalidation_0-logloss:0.161472\tvalidation_1-logloss:0.16193\n",
      "[85]\tvalidation_0-logloss:0.1598\tvalidation_1-logloss:0.160261\n",
      "[86]\tvalidation_0-logloss:0.158087\tvalidation_1-logloss:0.158561\n",
      "[87]\tvalidation_0-logloss:0.156432\tvalidation_1-logloss:0.156916\n",
      "[88]\tvalidation_0-logloss:0.154795\tvalidation_1-logloss:0.15529\n",
      "[89]\tvalidation_0-logloss:0.153215\tvalidation_1-logloss:0.153719\n",
      "[90]\tvalidation_0-logloss:0.151653\tvalidation_1-logloss:0.15217\n",
      "[91]\tvalidation_0-logloss:0.150151\tvalidation_1-logloss:0.150678\n",
      "[92]\tvalidation_0-logloss:0.148667\tvalidation_1-logloss:0.149205\n",
      "[93]\tvalidation_0-logloss:0.147234\tvalidation_1-logloss:0.147782\n",
      "[94]\tvalidation_0-logloss:0.145873\tvalidation_1-logloss:0.146424\n",
      "[95]\tvalidation_0-logloss:0.144479\tvalidation_1-logloss:0.145042\n",
      "[96]\tvalidation_0-logloss:0.14314\tvalidation_1-logloss:0.143714\n",
      "[97]\tvalidation_0-logloss:0.141815\tvalidation_1-logloss:0.1424\n",
      "[98]\tvalidation_0-logloss:0.140526\tvalidation_1-logloss:0.141122\n",
      "[99]\tvalidation_0-logloss:0.139241\tvalidation_1-logloss:0.139845\n",
      "[100]\tvalidation_0-logloss:0.137991\tvalidation_1-logloss:0.138606\n",
      "[101]\tvalidation_0-logloss:0.136766\tvalidation_1-logloss:0.137395\n",
      "[102]\tvalidation_0-logloss:0.135575\tvalidation_1-logloss:0.136215\n",
      "[103]\tvalidation_0-logloss:0.134451\tvalidation_1-logloss:0.135097\n",
      "[104]\tvalidation_0-logloss:0.133354\tvalidation_1-logloss:0.134006\n",
      "[105]\tvalidation_0-logloss:0.132282\tvalidation_1-logloss:0.132938\n",
      "[106]\tvalidation_0-logloss:0.131232\tvalidation_1-logloss:0.131894\n",
      "[107]\tvalidation_0-logloss:0.13021\tvalidation_1-logloss:0.130879\n",
      "[108]\tvalidation_0-logloss:0.129208\tvalidation_1-logloss:0.129881\n",
      "[109]\tvalidation_0-logloss:0.128231\tvalidation_1-logloss:0.128912\n",
      "[110]\tvalidation_0-logloss:0.127272\tvalidation_1-logloss:0.127959\n",
      "[111]\tvalidation_0-logloss:0.126335\tvalidation_1-logloss:0.127027\n",
      "[112]\tvalidation_0-logloss:0.12542\tvalidation_1-logloss:0.12612\n",
      "[113]\tvalidation_0-logloss:0.124522\tvalidation_1-logloss:0.125231\n",
      "[114]\tvalidation_0-logloss:0.123647\tvalidation_1-logloss:0.124361\n",
      "[115]\tvalidation_0-logloss:0.122794\tvalidation_1-logloss:0.123517\n",
      "[116]\tvalidation_0-logloss:0.12196\tvalidation_1-logloss:0.122688\n",
      "[117]\tvalidation_0-logloss:0.121142\tvalidation_1-logloss:0.121874\n",
      "[118]\tvalidation_0-logloss:0.120343\tvalidation_1-logloss:0.121083\n",
      "[119]\tvalidation_0-logloss:0.119563\tvalidation_1-logloss:0.120308\n",
      "[120]\tvalidation_0-logloss:0.118784\tvalidation_1-logloss:0.119536\n",
      "[121]\tvalidation_0-logloss:0.11804\tvalidation_1-logloss:0.118799\n",
      "[122]\tvalidation_0-logloss:0.11731\tvalidation_1-logloss:0.118074\n",
      "[123]\tvalidation_0-logloss:0.116277\tvalidation_1-logloss:0.117072\n"
     ]
    },
    {
     "name": "stdout",
     "output_type": "stream",
     "text": [
      "[124]\tvalidation_0-logloss:0.115301\tvalidation_1-logloss:0.116125\n",
      "[125]\tvalidation_0-logloss:0.114363\tvalidation_1-logloss:0.115214\n",
      "[126]\tvalidation_0-logloss:0.113465\tvalidation_1-logloss:0.114341\n",
      "[127]\tvalidation_0-logloss:0.112605\tvalidation_1-logloss:0.113504\n",
      "[128]\tvalidation_0-logloss:0.111762\tvalidation_1-logloss:0.112687\n",
      "[129]\tvalidation_0-logloss:0.110936\tvalidation_1-logloss:0.111884\n",
      "[130]\tvalidation_0-logloss:0.110139\tvalidation_1-logloss:0.111111\n",
      "[131]\tvalidation_0-logloss:0.109434\tvalidation_1-logloss:0.110428\n",
      "[132]\tvalidation_0-logloss:0.108739\tvalidation_1-logloss:0.109753\n",
      "[133]\tvalidation_0-logloss:0.10806\tvalidation_1-logloss:0.109095\n",
      "[134]\tvalidation_0-logloss:0.107408\tvalidation_1-logloss:0.108462\n",
      "[135]\tvalidation_0-logloss:0.106769\tvalidation_1-logloss:0.107842\n",
      "[136]\tvalidation_0-logloss:0.106131\tvalidation_1-logloss:0.107222\n",
      "[137]\tvalidation_0-logloss:0.105525\tvalidation_1-logloss:0.106634\n",
      "[138]\tvalidation_0-logloss:0.104924\tvalidation_1-logloss:0.106051\n",
      "[139]\tvalidation_0-logloss:0.10435\tvalidation_1-logloss:0.105493\n",
      "[140]\tvalidation_0-logloss:0.103794\tvalidation_1-logloss:0.104954\n",
      "[141]\tvalidation_0-logloss:0.103243\tvalidation_1-logloss:0.104416\n",
      "[142]\tvalidation_0-logloss:0.102696\tvalidation_1-logloss:0.103889\n",
      "[143]\tvalidation_0-logloss:0.102168\tvalidation_1-logloss:0.103378\n",
      "[144]\tvalidation_0-logloss:0.101641\tvalidation_1-logloss:0.102866\n",
      "[145]\tvalidation_0-logloss:0.101125\tvalidation_1-logloss:0.102367\n",
      "[146]\tvalidation_0-logloss:0.100618\tvalidation_1-logloss:0.101876\n",
      "[147]\tvalidation_0-logloss:0.100033\tvalidation_1-logloss:0.101302\n",
      "[148]\tvalidation_0-logloss:0.099469\tvalidation_1-logloss:0.10075\n",
      "[149]\tvalidation_0-logloss:0.098925\tvalidation_1-logloss:0.100222\n",
      "[150]\tvalidation_0-logloss:0.0984\tvalidation_1-logloss:0.099713\n",
      "[151]\tvalidation_0-logloss:0.097886\tvalidation_1-logloss:0.099214\n",
      "[152]\tvalidation_0-logloss:0.097383\tvalidation_1-logloss:0.098724\n",
      "[153]\tvalidation_0-logloss:0.0969\tvalidation_1-logloss:0.098251\n",
      "[154]\tvalidation_0-logloss:0.096429\tvalidation_1-logloss:0.097797\n",
      "[155]\tvalidation_0-logloss:0.095966\tvalidation_1-logloss:0.097346\n",
      "[156]\tvalidation_0-logloss:0.09552\tvalidation_1-logloss:0.096915\n",
      "[157]\tvalidation_0-logloss:0.09508\tvalidation_1-logloss:0.096488\n",
      "[158]\tvalidation_0-logloss:0.094671\tvalidation_1-logloss:0.096088\n",
      "[159]\tvalidation_0-logloss:0.094272\tvalidation_1-logloss:0.0957\n",
      "[160]\tvalidation_0-logloss:0.093883\tvalidation_1-logloss:0.095321\n",
      "[161]\tvalidation_0-logloss:0.093504\tvalidation_1-logloss:0.094951\n",
      "[162]\tvalidation_0-logloss:0.093134\tvalidation_1-logloss:0.094591\n",
      "[163]\tvalidation_0-logloss:0.092774\tvalidation_1-logloss:0.094241\n",
      "[164]\tvalidation_0-logloss:0.092417\tvalidation_1-logloss:0.093891\n",
      "[165]\tvalidation_0-logloss:0.092067\tvalidation_1-logloss:0.09355\n",
      "[166]\tvalidation_0-logloss:0.091726\tvalidation_1-logloss:0.093217\n",
      "[167]\tvalidation_0-logloss:0.091392\tvalidation_1-logloss:0.092892\n",
      "[168]\tvalidation_0-logloss:0.091066\tvalidation_1-logloss:0.092576\n",
      "[169]\tvalidation_0-logloss:0.090735\tvalidation_1-logloss:0.092258\n",
      "[170]\tvalidation_0-logloss:0.090422\tvalidation_1-logloss:0.091953\n",
      "[171]\tvalidation_0-logloss:0.090118\tvalidation_1-logloss:0.091655\n",
      "[172]\tvalidation_0-logloss:0.08982\tvalidation_1-logloss:0.091368\n",
      "[173]\tvalidation_0-logloss:0.08953\tvalidation_1-logloss:0.091085\n",
      "[174]\tvalidation_0-logloss:0.089245\tvalidation_1-logloss:0.090809\n",
      "[175]\tvalidation_0-logloss:0.088964\tvalidation_1-logloss:0.090535\n",
      "[176]\tvalidation_0-logloss:0.088688\tvalidation_1-logloss:0.090268\n",
      "[177]\tvalidation_0-logloss:0.088417\tvalidation_1-logloss:0.090004\n",
      "[178]\tvalidation_0-logloss:0.088154\tvalidation_1-logloss:0.089751\n",
      "[179]\tvalidation_0-logloss:0.087898\tvalidation_1-logloss:0.089502\n",
      "[180]\tvalidation_0-logloss:0.087651\tvalidation_1-logloss:0.089265\n",
      "[181]\tvalidation_0-logloss:0.087387\tvalidation_1-logloss:0.089011\n",
      "[182]\tvalidation_0-logloss:0.087154\tvalidation_1-logloss:0.088786\n",
      "[183]\tvalidation_0-logloss:0.086921\tvalidation_1-logloss:0.088562\n",
      "[184]\tvalidation_0-logloss:0.086694\tvalidation_1-logloss:0.088344\n",
      "[185]\tvalidation_0-logloss:0.086471\tvalidation_1-logloss:0.088127\n",
      "[186]\tvalidation_0-logloss:0.086252\tvalidation_1-logloss:0.087918\n",
      "[187]\tvalidation_0-logloss:0.086021\tvalidation_1-logloss:0.087696\n",
      "[188]\tvalidation_0-logloss:0.085797\tvalidation_1-logloss:0.087482\n",
      "[189]\tvalidation_0-logloss:0.085578\tvalidation_1-logloss:0.087271\n",
      "[190]\tvalidation_0-logloss:0.085361\tvalidation_1-logloss:0.087061\n",
      "[191]\tvalidation_0-logloss:0.085147\tvalidation_1-logloss:0.086856\n",
      "[192]\tvalidation_0-logloss:0.08494\tvalidation_1-logloss:0.086656\n",
      "[193]\tvalidation_0-logloss:0.08474\tvalidation_1-logloss:0.086465\n",
      "[194]\tvalidation_0-logloss:0.084544\tvalidation_1-logloss:0.086276\n",
      "[195]\tvalidation_0-logloss:0.084353\tvalidation_1-logloss:0.086093\n",
      "[196]\tvalidation_0-logloss:0.084165\tvalidation_1-logloss:0.085912\n",
      "[197]\tvalidation_0-logloss:0.083981\tvalidation_1-logloss:0.085738\n",
      "[198]\tvalidation_0-logloss:0.0838\tvalidation_1-logloss:0.085567\n",
      "[199]\tvalidation_0-logloss:0.083623\tvalidation_1-logloss:0.085397\n",
      "[200]\tvalidation_0-logloss:0.083453\tvalidation_1-logloss:0.085232\n",
      "[201]\tvalidation_0-logloss:0.083282\tvalidation_1-logloss:0.085072\n",
      "[202]\tvalidation_0-logloss:0.083116\tvalidation_1-logloss:0.084912\n",
      "[203]\tvalidation_0-logloss:0.082953\tvalidation_1-logloss:0.084759\n",
      "[204]\tvalidation_0-logloss:0.082788\tvalidation_1-logloss:0.084601\n",
      "[205]\tvalidation_0-logloss:0.082635\tvalidation_1-logloss:0.084455\n",
      "[206]\tvalidation_0-logloss:0.082479\tvalidation_1-logloss:0.084308\n",
      "[207]\tvalidation_0-logloss:0.082331\tvalidation_1-logloss:0.084168\n",
      "[208]\tvalidation_0-logloss:0.08217\tvalidation_1-logloss:0.084015\n",
      "[209]\tvalidation_0-logloss:0.082025\tvalidation_1-logloss:0.083878\n",
      "[210]\tvalidation_0-logloss:0.081855\tvalidation_1-logloss:0.083713\n",
      "[211]\tvalidation_0-logloss:0.081721\tvalidation_1-logloss:0.083586\n",
      "[212]\tvalidation_0-logloss:0.081568\tvalidation_1-logloss:0.08344\n",
      "[213]\tvalidation_0-logloss:0.081406\tvalidation_1-logloss:0.083284\n",
      "[214]\tvalidation_0-logloss:0.08128\tvalidation_1-logloss:0.083166\n",
      "[215]\tvalidation_0-logloss:0.081135\tvalidation_1-logloss:0.083028\n",
      "[216]\tvalidation_0-logloss:0.081014\tvalidation_1-logloss:0.082913\n",
      "[217]\tvalidation_0-logloss:0.080877\tvalidation_1-logloss:0.082783\n",
      "[218]\tvalidation_0-logloss:0.080759\tvalidation_1-logloss:0.082672\n",
      "[219]\tvalidation_0-logloss:0.080646\tvalidation_1-logloss:0.082566\n",
      "[220]\tvalidation_0-logloss:0.080515\tvalidation_1-logloss:0.082442\n",
      "[221]\tvalidation_0-logloss:0.08039\tvalidation_1-logloss:0.082327\n",
      "[222]\tvalidation_0-logloss:0.080269\tvalidation_1-logloss:0.082214\n",
      "[223]\tvalidation_0-logloss:0.080143\tvalidation_1-logloss:0.082092\n",
      "[224]\tvalidation_0-logloss:0.079995\tvalidation_1-logloss:0.081946\n",
      "[225]\tvalidation_0-logloss:0.079877\tvalidation_1-logloss:0.081835\n",
      "[226]\tvalidation_0-logloss:0.079751\tvalidation_1-logloss:0.081716\n",
      "[227]\tvalidation_0-logloss:0.079619\tvalidation_1-logloss:0.081589\n",
      "[228]\tvalidation_0-logloss:0.079473\tvalidation_1-logloss:0.081447\n",
      "[229]\tvalidation_0-logloss:0.079346\tvalidation_1-logloss:0.081326\n",
      "[230]\tvalidation_0-logloss:0.079217\tvalidation_1-logloss:0.081203\n",
      "[231]\tvalidation_0-logloss:0.079069\tvalidation_1-logloss:0.081063\n",
      "[232]\tvalidation_0-logloss:0.078952\tvalidation_1-logloss:0.080951\n",
      "[233]\tvalidation_0-logloss:0.078825\tvalidation_1-logloss:0.080834\n",
      "[234]\tvalidation_0-logloss:0.078711\tvalidation_1-logloss:0.080727\n",
      "[235]\tvalidation_0-logloss:0.078562\tvalidation_1-logloss:0.080583\n",
      "[236]\tvalidation_0-logloss:0.078421\tvalidation_1-logloss:0.080445\n",
      "[237]\tvalidation_0-logloss:0.07831\tvalidation_1-logloss:0.080342\n",
      "[238]\tvalidation_0-logloss:0.078197\tvalidation_1-logloss:0.080238\n",
      "[239]\tvalidation_0-logloss:0.078092\tvalidation_1-logloss:0.080141\n",
      "[240]\tvalidation_0-logloss:0.077963\tvalidation_1-logloss:0.080017\n",
      "[241]\tvalidation_0-logloss:0.077866\tvalidation_1-logloss:0.079926\n",
      "[242]\tvalidation_0-logloss:0.077738\tvalidation_1-logloss:0.079803\n",
      "[243]\tvalidation_0-logloss:0.077644\tvalidation_1-logloss:0.079716\n",
      "[244]\tvalidation_0-logloss:0.077518\tvalidation_1-logloss:0.079594\n",
      "[245]\tvalidation_0-logloss:0.077399\tvalidation_1-logloss:0.07948\n",
      "[246]\tvalidation_0-logloss:0.077317\tvalidation_1-logloss:0.079403\n",
      "[247]\tvalidation_0-logloss:0.077207\tvalidation_1-logloss:0.079298\n",
      "[248]\tvalidation_0-logloss:0.077114\tvalidation_1-logloss:0.079211\n"
     ]
    },
    {
     "name": "stdout",
     "output_type": "stream",
     "text": [
      "[249]\tvalidation_0-logloss:0.077027\tvalidation_1-logloss:0.079131\n",
      "[250]\tvalidation_0-logloss:0.076946\tvalidation_1-logloss:0.079056\n",
      "[251]\tvalidation_0-logloss:0.076871\tvalidation_1-logloss:0.078985\n",
      "[252]\tvalidation_0-logloss:0.076767\tvalidation_1-logloss:0.078886\n",
      "[253]\tvalidation_0-logloss:0.076697\tvalidation_1-logloss:0.078824\n",
      "[254]\tvalidation_0-logloss:0.076595\tvalidation_1-logloss:0.078728\n",
      "[255]\tvalidation_0-logloss:0.076499\tvalidation_1-logloss:0.078636\n",
      "[256]\tvalidation_0-logloss:0.076427\tvalidation_1-logloss:0.07857\n",
      "[257]\tvalidation_0-logloss:0.076353\tvalidation_1-logloss:0.078502\n",
      "[258]\tvalidation_0-logloss:0.076264\tvalidation_1-logloss:0.078419\n",
      "[259]\tvalidation_0-logloss:0.076195\tvalidation_1-logloss:0.078356\n",
      "[260]\tvalidation_0-logloss:0.076128\tvalidation_1-logloss:0.078295\n",
      "[261]\tvalidation_0-logloss:0.076064\tvalidation_1-logloss:0.078239\n",
      "[262]\tvalidation_0-logloss:0.075995\tvalidation_1-logloss:0.078176\n",
      "[263]\tvalidation_0-logloss:0.075938\tvalidation_1-logloss:0.078124\n",
      "[264]\tvalidation_0-logloss:0.07588\tvalidation_1-logloss:0.078071\n",
      "[265]\tvalidation_0-logloss:0.075821\tvalidation_1-logloss:0.07802\n",
      "[266]\tvalidation_0-logloss:0.075763\tvalidation_1-logloss:0.077965\n",
      "[267]\tvalidation_0-logloss:0.075684\tvalidation_1-logloss:0.077888\n",
      "[268]\tvalidation_0-logloss:0.075627\tvalidation_1-logloss:0.077839\n",
      "[269]\tvalidation_0-logloss:0.075571\tvalidation_1-logloss:0.07779\n",
      "[270]\tvalidation_0-logloss:0.07549\tvalidation_1-logloss:0.077713\n",
      "[271]\tvalidation_0-logloss:0.075432\tvalidation_1-logloss:0.077665\n",
      "[272]\tvalidation_0-logloss:0.075376\tvalidation_1-logloss:0.077616\n",
      "[273]\tvalidation_0-logloss:0.075316\tvalidation_1-logloss:0.077565\n",
      "[274]\tvalidation_0-logloss:0.075246\tvalidation_1-logloss:0.077501\n",
      "[275]\tvalidation_0-logloss:0.07519\tvalidation_1-logloss:0.077452\n",
      "[276]\tvalidation_0-logloss:0.075123\tvalidation_1-logloss:0.07739\n",
      "[277]\tvalidation_0-logloss:0.075064\tvalidation_1-logloss:0.077338\n",
      "[278]\tvalidation_0-logloss:0.075018\tvalidation_1-logloss:0.077298\n",
      "[279]\tvalidation_0-logloss:0.074957\tvalidation_1-logloss:0.077243\n",
      "[280]\tvalidation_0-logloss:0.074877\tvalidation_1-logloss:0.07717\n",
      "[281]\tvalidation_0-logloss:0.074819\tvalidation_1-logloss:0.077117\n",
      "[282]\tvalidation_0-logloss:0.074774\tvalidation_1-logloss:0.077078\n",
      "[283]\tvalidation_0-logloss:0.074718\tvalidation_1-logloss:0.077031\n",
      "[284]\tvalidation_0-logloss:0.07467\tvalidation_1-logloss:0.07699\n",
      "[285]\tvalidation_0-logloss:0.074629\tvalidation_1-logloss:0.076955\n",
      "[286]\tvalidation_0-logloss:0.074558\tvalidation_1-logloss:0.07689\n",
      "[287]\tvalidation_0-logloss:0.074506\tvalidation_1-logloss:0.076843\n",
      "[288]\tvalidation_0-logloss:0.074438\tvalidation_1-logloss:0.076781\n",
      "[289]\tvalidation_0-logloss:0.074375\tvalidation_1-logloss:0.076725\n",
      "[290]\tvalidation_0-logloss:0.074342\tvalidation_1-logloss:0.076697\n",
      "[291]\tvalidation_0-logloss:0.074307\tvalidation_1-logloss:0.076668\n",
      "[292]\tvalidation_0-logloss:0.07427\tvalidation_1-logloss:0.076637\n",
      "[293]\tvalidation_0-logloss:0.074207\tvalidation_1-logloss:0.07658\n",
      "[294]\tvalidation_0-logloss:0.07415\tvalidation_1-logloss:0.076528\n",
      "[295]\tvalidation_0-logloss:0.074113\tvalidation_1-logloss:0.076497\n",
      "[296]\tvalidation_0-logloss:0.074053\tvalidation_1-logloss:0.076445\n",
      "[297]\tvalidation_0-logloss:0.074002\tvalidation_1-logloss:0.076398\n",
      "[298]\tvalidation_0-logloss:0.073972\tvalidation_1-logloss:0.076374\n",
      "[299]\tvalidation_0-logloss:0.073927\tvalidation_1-logloss:0.076337\n"
     ]
    },
    {
     "data": {
      "text/plain": [
       "XGBClassifier(base_score=0.5, colsample_bylevel=1, colsample_bytree=1,\n",
       "       gamma=0, learning_rate=0.02, max_delta_step=0, max_depth=7,\n",
       "       min_child_weight=1, missing=None, n_estimators=300, nthread=-1,\n",
       "       objective='binary:logistic', reg_alpha=0, reg_lambda=1,\n",
       "       scale_pos_weight=1, seed=50, silent=False, subsample=1)"
      ]
     },
     "execution_count": 63,
     "metadata": {},
     "output_type": "execute_result"
    }
   ],
   "source": [
    "eval_set = [(X_train, y_train), (X_test, y_test)]\n",
    "\n",
    "xgb.fit(X_train, y_train, eval_set=eval_set, eval_metric='logloss', early_stopping_rounds=30)"
   ]
  },
  {
   "cell_type": "markdown",
   "metadata": {},
   "source": [
    "# Prediction and Evaluations"
   ]
  },
  {
   "cell_type": "code",
   "execution_count": 64,
   "metadata": {},
   "outputs": [],
   "source": [
    "predictions = xgb.predict(X_test)\n",
    "predictions_prob = xgb.predict_proba(X_test)"
   ]
  },
  {
   "cell_type": "code",
   "execution_count": 65,
   "metadata": {},
   "outputs": [],
   "source": [
    "from sklearn.metrics import classification_report,confusion_matrix,log_loss"
   ]
  },
  {
   "cell_type": "code",
   "execution_count": 66,
   "metadata": {},
   "outputs": [
    {
     "name": "stdout",
     "output_type": "stream",
     "text": [
      "[[280759   2641]\n",
      " [  5938  31463]]\n"
     ]
    }
   ],
   "source": [
    "print(confusion_matrix(y_test,predictions))"
   ]
  },
  {
   "cell_type": "code",
   "execution_count": 67,
   "metadata": {},
   "outputs": [
    {
     "name": "stdout",
     "output_type": "stream",
     "text": [
      "             precision    recall  f1-score   support\n",
      "\n",
      "          0       0.98      0.99      0.98    283400\n",
      "          1       0.92      0.84      0.88     37401\n",
      "\n",
      "avg / total       0.97      0.97      0.97    320801\n",
      "\n"
     ]
    }
   ],
   "source": [
    "print(classification_report(y_test,predictions))"
   ]
  },
  {
   "cell_type": "code",
   "execution_count": 68,
   "metadata": {},
   "outputs": [
    {
     "name": "stdout",
     "output_type": "stream",
     "text": [
      "0.0763368527946\n"
     ]
    }
   ],
   "source": [
    "print(log_loss(y_test,predictions_prob))"
   ]
  },
  {
   "cell_type": "code",
   "execution_count": 69,
   "metadata": {},
   "outputs": [
    {
     "data": {
      "text/plain": [
       "<matplotlib.axes._subplots.AxesSubplot at 0x11dc09dd8>"
      ]
     },
     "execution_count": 69,
     "metadata": {},
     "output_type": "execute_result"
    },
    {
     "data": {
      "image/png": "[encoded data removed]",
      "text/plain": [
       "<matplotlib.figure.Figure at 0x1afa8c400>"
      ]
     },
     "metadata": {},
     "output_type": "display_data"
    }
   ],
   "source": [
    "from xgboost import plot_importance\n",
    "\n",
    "plot_importance(xgb)"
   ]
  },
  {
   "cell_type": "markdown",
   "metadata": {},
   "source": [
    "# Prediction test file"
   ]
  },
  {
   "cell_type": "code",
   "execution_count": 72,
   "metadata": {},
   "outputs": [],
   "source": [
    "df_merge_test['is_churn'] = xgb.predict_proba(df_merge_test[features])[:,1]"
   ]
  },
  {
   "cell_type": "code",
   "execution_count": 73,
   "metadata": {},
   "outputs": [],
   "source": [
    "df_merge_test[['msno','is_churn']].to_csv('submission.csv.gz', index=False, compression='gzip')"
   ]
  },
  {
   "cell_type": "code",
   "execution_count": null,
   "metadata": {},
   "outputs": [],
   "source": []
  }
 ],
 "metadata": {
  "kernelspec": {
   "display_name": "Python 3",
   "language": "python",
   "name": "python3"
  },
  "language_info": {
   "codemirror_mode": {
    "name": "ipython",
    "version": 3
   },
   "file_extension": ".py",
   "mimetype": "text/x-python",
   "name": "python",
   "nbconvert_exporter": "python",
   "pygments_lexer": "ipython3",
   "version": "3.6.2"
  }
 },
 "nbformat": 4,
 "nbformat_minor": 2
}
